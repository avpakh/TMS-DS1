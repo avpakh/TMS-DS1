{
  "cells": [
    {
      "cell_type": "markdown",
      "metadata": {
        "id": "view-in-github",
        "colab_type": "text"
      },
      "source": [
        "<a href=\"https://colab.research.google.com/github/avpakh/TMS-DS1/blob/main/%22%D0%94%D0%BE%D0%BC%D0%B0%D1%88%D0%BD%D0%B5%D0%B5_%D0%B7%D0%B0%D0%B4%D0%B0%D0%BD%D0%B8%D0%B5_11_ipynb%22.ipynb\" target=\"_parent\"><img src=\"https://colab.research.google.com/assets/colab-badge.svg\" alt=\"Open In Colab\"/></a>"
      ]
    },
    {
      "cell_type": "markdown",
      "metadata": {
        "id": "Wl61jUTFs7OO"
      },
      "source": [
        "# Добро пожаловать в мир Линейной Алгебры\n",
        "\n",
        "Пользуйтесь [документацией](https://numpy.org/doc/1.17/reference/index.html) чтобы найти нужный метод для расчетов."
      ]
    },
    {
      "cell_type": "code",
      "execution_count": 46,
      "metadata": {
        "id": "67k30pk-s7OS"
      },
      "outputs": [],
      "source": [
        "import numpy as np\n",
        "import numpy.linalg as LA"
      ]
    },
    {
      "cell_type": "markdown",
      "metadata": {
        "id": "HQtCtXW1s7OV"
      },
      "source": [
        "## Task 1\n",
        "Найдите сумму всех елементов массива. [Подсказка](https://docs.scipy.org/doc/numpy/reference/generated/numpy.sum.html)."
      ]
    },
    {
      "cell_type": "code",
      "execution_count": null,
      "metadata": {
        "id": "hYmzs6GVs7OV",
        "outputId": "784fb8bc-44dc-46df-f16c-3c42c406080e",
        "colab": {
          "base_uri": "https://localhost:8080/"
        }
      },
      "outputs": [
        {
          "output_type": "stream",
          "name": "stdout",
          "text": [
            "[[ 1 13  4  5 -6]\n",
            " [-9  4 12  0  2]\n",
            " [45  4  3  2  1]\n",
            " [ 3 -9 15  6 22]\n",
            " [ 3  5  0 -7 12]]\n"
          ]
        }
      ],
      "source": [
        "A = np.array([[1,13,4,5, -6],[-9,4,12,0,2],[45,4,3,2,1], [3,-9,15,6,22],[3,5,0,-7,12]])\n",
        "print (A)\n"
      ]
    },
    {
      "cell_type": "code",
      "execution_count": null,
      "metadata": {
        "id": "GfZe5dAms7OX",
        "colab": {
          "base_uri": "https://localhost:8080/"
        },
        "outputId": "afe96d8c-1344-4e97-e32f-ae452c8f0163"
      },
      "outputs": [
        {
          "output_type": "stream",
          "name": "stdout",
          "text": [
            "Сумма всех элементов 131\n"
          ]
        }
      ],
      "source": [
        "ans1 = A.sum()\n",
        "print ('Сумма всех элементов',ans1) \n"
      ]
    },
    {
      "cell_type": "markdown",
      "metadata": {
        "id": "iYcc6Tais7OZ"
      },
      "source": [
        "## Task 2\n",
        "Посчитайте разницу между матрицами m1 и m2."
      ]
    },
    {
      "cell_type": "code",
      "execution_count": null,
      "metadata": {
        "id": "BYBHxGgXs7OZ"
      },
      "outputs": [],
      "source": [
        "m1 = np.array([[-7, -6,  3, -5],\n",
        "       [ 7,  0,  4,  0],\n",
        "       [ 6, -1,  1,  1]])\n",
        "m2 = np.array([[  6,  -7,  -3,  -9],\n",
        "       [ -8,   1,  -4,   2],\n",
        "       [-10,   1,  -7,   9]])"
      ]
    },
    {
      "cell_type": "code",
      "execution_count": null,
      "metadata": {
        "id": "RTkE7Zyfs7Oa",
        "colab": {
          "base_uri": "https://localhost:8080/"
        },
        "outputId": "b0718d19-2789-47f2-a16d-2f7074072821"
      },
      "outputs": [
        {
          "output_type": "stream",
          "name": "stdout",
          "text": [
            "[[-13   1   6   4]\n",
            " [ 15  -1   8  -2]\n",
            " [ 16  -2   8  -8]]\n"
          ]
        }
      ],
      "source": [
        "ans2 = np.subtract(m1,m2)\n",
        "\n",
        "print (ans2)"
      ]
    },
    {
      "cell_type": "markdown",
      "metadata": {
        "id": "dSH6Xf3cs7Ob"
      },
      "source": [
        "## Task 3\n",
        "Найдите суму всех елементов матрицы модуль которых больше 5. Используя цикл $\\textit{for}$, или numpy методы ([подсказка](https://docs.scipy.org/doc/numpy/reference/generated/numpy.where.html))."
      ]
    },
    {
      "cell_type": "code",
      "execution_count": null,
      "metadata": {
        "id": "vu57Pc6is7Oc"
      },
      "outputs": [],
      "source": [
        "b = np.array([[ -6,  -7,  -5,   0],\n",
        "       [-15,   2, -13,  -5],\n",
        "       [  8,   4,  10,   8],\n",
        "       [ -1,  -9,   7,  -4]])"
      ]
    },
    {
      "cell_type": "code",
      "execution_count": null,
      "metadata": {
        "id": "jzYqKNbEs7Oc",
        "colab": {
          "base_uri": "https://localhost:8080/"
        },
        "outputId": "e9fc9841-b70e-4e9e-f6ff-03b16457aab8"
      },
      "outputs": [
        {
          "output_type": "stream",
          "name": "stdout",
          "text": [
            "Промежуточная матрица [[ -6  -7   0   0]\n",
            " [-15   0 -13   0]\n",
            " [  8   0  10   8]\n",
            " [  0  -9   7   0]]\n",
            "Результат вычислений -17\n"
          ]
        }
      ],
      "source": [
        "ans3 = np.where(abs(b)>5,b,0)\n",
        "print ('Промежуточная матрица',ans3)\n",
        "sum_array= ans3.sum()\n",
        "print ('Результат вычислений:',sum_array)\n"
      ]
    },
    {
      "cell_type": "markdown",
      "metadata": {
        "id": "jHQQI6cqs7Od"
      },
      "source": [
        "## Task 4\n",
        "Найдите произведение двух матриц. Лучше использовать $\\textit{matmul}$."
      ]
    },
    {
      "cell_type": "code",
      "execution_count": null,
      "metadata": {
        "id": "_VODxe_ts7Od"
      },
      "outputs": [],
      "source": [
        "n = np.array([[ -4,  -1,   3,  -7,   6,  -9,   5,  -9,  -7,   0],\n",
        "       [-12,   3, -12,  -7,   2,  -4,   8,  13,   9,   3],\n",
        "       [ -2,  -1, -15, -10,   7,   5,   7, -13,  -9,   6],\n",
        "       [  7,  11,  -5,  -6,  -9,  -1,   3,  10, -15,  -6],\n",
        "       [ -3,  -4,   4, -13,   4, -13,  10,  -6,  -8,  13],\n",
        "       [  7, -13,  -4,   3,   4,  13, -13,   4,  -9, -10],\n",
        "       [ -5,  13,  -9, -15,  11,   2,   7, -14, -14,   2],\n",
        "       [ -4,  -6,  12,  10,  13,  -3,  12, -15,   5,  -2],\n",
        "       [ -1,   8,   3,   7,  11,  -3,   6,  12,  12, -13],\n",
        "       [ 12,  11,  12,  11,   1, -14,   2,   6,  -9,  -3]])\n",
        "z = np.array([[-15,   5, -15,  10,  -3,  12,  -6, -15,   6,   3],\n",
        "       [ 12,  -4,   6, -11,   5,   3,   3,  12, -15,  -6],\n",
        "       [-11, -11, -10,   9,  -8, -14, -14,   7,  -2,  11],\n",
        "       [  5,  -4,  11,   0,   8,  -9, -15, -11,   7, -10],\n",
        "       [ -6,  -9,  -3, -13, -11,  -9,   7,  -7,   9,   4],\n",
        "       [ 10,  12,   4,  -7,   1,   0,  -1,  11,  -4,  11],\n",
        "       [-14,   2,  -8,  11,  -9,   5, -14,  10,  -6,  -9],\n",
        "       [ -5,  10, -10,  -1,  -9, -12,  12,  14,   4,   2],\n",
        "       [ -1, -13,  10,  11,  12, -14,   9,  12,  12,  -5],\n",
        "       [  2,   6, -13,  -5,  -2,  -2,   0,  14,   7,  14]])"
      ]
    },
    {
      "cell_type": "code",
      "execution_count": null,
      "metadata": {
        "id": "5Yo-i33as7Od",
        "colab": {
          "base_uri": "https://localhost:8080/"
        },
        "outputId": "7d1f7d6a-c1a4-4ae9-a143-e89093980cab"
      },
      "outputs": [
        {
          "output_type": "stream",
          "name": "stdout",
          "text": [
            "[[-164 -172 -127  -30 -196  147 -106 -155 -124   -6]\n",
            " [  81   69   76 -100  -22 -170  497  563   25 -201]\n",
            " [ 129  233  -31 -309  -97  515   78 -107 -154   58]\n",
            " [   7  404 -228  -84 -161  439   32   16 -432 -103]\n",
            " [-342  -41 -495   52 -362  185  -98   99  -58  182]\n",
            " [  55  310   34 -162  -68   71   94 -529  166  214]\n",
            " [ 199   75  -29 -504 -196  536  103   12 -473   31]\n",
            " [-304 -524   93  198  -89 -267 -521 -220  155 -116]\n",
            " [-165 -335  186   58  -41 -448  131  135   93 -349]\n",
            " [-326 -174 -299  124 -188  -29 -388 -292  -92 -161]]\n"
          ]
        }
      ],
      "source": [
        "ans4 = np.matmul(n, z)\n",
        "print (ans4)"
      ]
    },
    {
      "cell_type": "markdown",
      "metadata": {
        "id": "S2N9Fv5cs7Oe"
      },
      "source": [
        "## Task 5\n",
        "Создайте идентичную матрицу размера A и отнимите ее от матрицы А."
      ]
    },
    {
      "cell_type": "code",
      "execution_count": null,
      "metadata": {
        "id": "A3Sop7e-s7Oe",
        "outputId": "929df595-a016-4b98-a568-b31a49b4b906",
        "colab": {
          "base_uri": "https://localhost:8080/"
        }
      },
      "outputs": [
        {
          "output_type": "execute_result",
          "data": {
            "text/plain": [
              "array([[  7,   8, -15,   8,  11,   7],\n",
              "       [ -5,  -9,  13,  -3, -15, -11],\n",
              "       [ -3,   0,  10,  -5,   3,  -8],\n",
              "       [ 10,   1,   7, -11,  10,  -3],\n",
              "       [ 11,   9,  -6, -14,  10, -11],\n",
              "       [  6,  -4,  -4,  -9,  -6,  -7]])"
            ]
          },
          "metadata": {},
          "execution_count": 16
        }
      ],
      "source": [
        "A = np.array([[  7,   8, -15,   8,  11,   7],\n",
        "       [ -5,  -9,  13,  -3, -15, -11],\n",
        "       [ -3,   0,  10,  -5,   3,  -8],\n",
        "       [ 10,   1,   7, -11,  10,  -3],\n",
        "       [ 11,   9,  -6, -14,  10, -11],\n",
        "       [  6,  -4,  -4,  -9,  -6,  -7]])\n",
        "A"
      ]
    },
    {
      "cell_type": "code",
      "execution_count": null,
      "metadata": {
        "id": "vcH1d-w4s7Of",
        "colab": {
          "base_uri": "https://localhost:8080/"
        },
        "outputId": "229b2328-d60a-4f03-b4cb-e8c0d47b3ec1"
      },
      "outputs": [
        {
          "output_type": "stream",
          "name": "stdout",
          "text": [
            "[[1. 0. 0. 0. 0. 0.]\n",
            " [0. 1. 0. 0. 0. 0.]\n",
            " [0. 0. 1. 0. 0. 0.]\n",
            " [0. 0. 0. 1. 0. 0.]\n",
            " [0. 0. 0. 0. 1. 0.]\n",
            " [0. 0. 0. 0. 0. 1.]]\n",
            "Результирующая матрица: [[  6.   8. -15.   8.  11.   7.]\n",
            " [ -5. -10.  13.  -3. -15. -11.]\n",
            " [ -3.   0.   9.  -5.   3.  -8.]\n",
            " [ 10.   1.   7. -12.  10.  -3.]\n",
            " [ 11.   9.  -6. -14.   9. -11.]\n",
            " [  6.  -4.  -4.  -9.  -6.  -8.]]\n"
          ]
        }
      ],
      "source": [
        "ident = np.eye(np.shape(A)[0])\n",
        "print (ident)\n",
        "\n",
        "ans5 = np.subtract(A, ident)\n",
        "print ('Результирующая матрица:',ans5)\n"
      ]
    },
    {
      "cell_type": "markdown",
      "metadata": {
        "id": "QJCMZmqhs7Of"
      },
      "source": [
        "## Task 6\n",
        "Найдите решение системы уровнений Ax = b, используя обратную матрицу."
      ]
    },
    {
      "cell_type": "code",
      "execution_count": null,
      "metadata": {
        "id": "zOeJACiDs7Of"
      },
      "outputs": [],
      "source": [
        "A = np.array([[ 0, -2,  0, -2],\n",
        "       [-2,  0, -4,  4],\n",
        "       [-1, -5, -2,  2],\n",
        "       [ 3, 1, 2,  1]])"
      ]
    },
    {
      "cell_type": "code",
      "execution_count": null,
      "metadata": {
        "id": "GpiGoyrus7Of",
        "colab": {
          "base_uri": "https://localhost:8080/"
        },
        "outputId": "c7013cf5-9be1-42e0-ab25-2305774149af"
      },
      "outputs": [
        {
          "output_type": "stream",
          "name": "stdout",
          "text": [
            "[[ 7.50000000e-01  3.50000000e-01 -2.00000000e-01  5.00000000e-01]\n",
            " [ 1.18952467e-17  1.00000000e-01 -2.00000000e-01 -3.96508223e-18]\n",
            " [-8.75000000e-01 -5.25000000e-01  3.00000000e-01 -2.50000000e-01]\n",
            " [-5.00000000e-01 -1.00000000e-01  2.00000000e-01  1.58603289e-18]]\n",
            "[-2.45  -0.7    3.675  2.7  ]\n"
          ]
        }
      ],
      "source": [
        "b = np.array([-4,  1,  4,  2])\n",
        "\n",
        "# X = [x1,x2,x3,x4]\n",
        "\n",
        "# 1. Поиск обратной матрицы A-1 \n",
        "\n",
        "Az = np.linalg.inv(A)\n",
        "\n",
        "print (Az)\n",
        "\n",
        "# X = Az*b\n",
        "\n",
        "ans6 = np.matmul(Az, b)\n",
        "\n",
        "print ('Результирующая матрица',ans6)\n",
        "\n"
      ]
    },
    {
      "cell_type": "markdown",
      "metadata": {
        "id": "VWsqeZjas7Og"
      },
      "source": [
        "## Task 7\n",
        "Напишите функцию скалярного умножения двух векторов, а потом используя ее создайте функцию умножения двух матриц."
      ]
    },
    {
      "cell_type": "code",
      "source": [
        "m = np.array([1,  1]) # 1-й вектор\n",
        "n = np.array([1,  2]) # 2-й вектор\n",
        "\n",
        "\n",
        "def scal_mult(_v1,_v2): # функция скалярного произведения векторов\n",
        "  dim = np.shape(_v1)[0]\n",
        "  s=0\n",
        "  for i in range(dim):\n",
        "    s+=_v1[i]*_v2[i]\n",
        "  return s\n",
        "  \n",
        "z = scal_mult(m,n)\n",
        "\n",
        "# Произведение матриц AB состоит из всех возможных комбинаций скалярных произведений \n",
        "# вектор-строк матрицы A и вектор-столбцов матрицы B. \n",
        "# Элемент матрицы AB с индексами i, j есть скалярное произведение i-ой вектор-строки матрицы A \n",
        "# и j-го вектор-столбца матрицы B.\n",
        "\n",
        "def matrix_mult(_a, _b): # функция умножения матрицы\n",
        "    # Создать пустую матрицу с размерами\n",
        "\n",
        "    result_array = np.zeros((np.shape(_a)[0], np.shape(_b)[1]))\n",
        "\n",
        "    size_i = np.shape(_a)[0]\n",
        "    size_j =  np.shape(_b)[1]\n",
        "\n",
        "    for i in range(size_i):\n",
        "        print (i)\n",
        "        for j in range(size_j):\n",
        "            result_array[i, j] = scal_mult(_a[i,:], _b[:, j])\n",
        "\n",
        "    return result_array\n",
        "\n",
        "\n",
        "a = np.array([[ 2, -3],\n",
        "       [4, 5]])\n",
        "b = np.array([[ 1, -3,-2],\n",
        "       [2,4, -1]])\n",
        "\n",
        "\n",
        "t  = matrix_mult(a,b)\n",
        "print (t)\n"
      ],
      "metadata": {
        "id": "GkuxrKarvWgz",
        "colab": {
          "base_uri": "https://localhost:8080/"
        },
        "outputId": "1c6922af-d84b-4086-b95c-3fbf5d45c167"
      },
      "execution_count": 48,
      "outputs": [
        {
          "output_type": "stream",
          "name": "stdout",
          "text": [
            "0\n",
            "1\n",
            "[[ -4. -18.  -1.]\n",
            " [ 14.   8. -13.]]\n"
          ]
        }
      ]
    }
  ],
  "metadata": {
    "kernelspec": {
      "display_name": "Python 3",
      "language": "python",
      "name": "python3"
    },
    "language_info": {
      "codemirror_mode": {
        "name": "ipython",
        "version": 3
      },
      "file_extension": ".py",
      "mimetype": "text/x-python",
      "name": "python",
      "nbconvert_exporter": "python",
      "pygments_lexer": "ipython3",
      "version": "3.7.1"
    },
    "colab": {
      "name": "Копия блокнота \"Домашнее задание 11.ipynb\"",
      "provenance": [],
      "collapsed_sections": [],
      "include_colab_link": true
    }
  },
  "nbformat": 4,
  "nbformat_minor": 0
}