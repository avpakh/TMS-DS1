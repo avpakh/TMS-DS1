{
  "nbformat": 4,
  "nbformat_minor": 0,
  "metadata": {
    "colab": {
      "name": "Копия блокнота \"\"Домашнее задание\" - Математика\"",
      "provenance": [],
      "collapsed_sections": [],
      "include_colab_link": true
    },
    "kernelspec": {
      "name": "python3",
      "display_name": "Python 3"
    },
    "language_info": {
      "name": "python"
    }
  },
  "cells": [
    {
      "cell_type": "markdown",
      "metadata": {
        "id": "view-in-github",
        "colab_type": "text"
      },
      "source": [
        "<a href=\"https://colab.research.google.com/github/avpakh/TMS-DS1/blob/main/%22%22%D0%94%D0%BE%D0%BC%D0%B0%D1%88%D0%BD%D0%B5%D0%B5_%D0%B7%D0%B0%D0%B4%D0%B0%D0%BD%D0%B8%D0%B5%22_%D0%9C%D0%B0%D1%82%D0%B5%D0%BC%D0%B0%D1%82%D0%B8%D0%BA%D0%B0%22.ipynb\" target=\"_parent\"><img src=\"https://colab.research.google.com/assets/colab-badge.svg\" alt=\"Open In Colab\"/></a>"
      ]
    },
    {
      "cell_type": "markdown",
      "source": [
        "### Часть 1"
      ],
      "metadata": {
        "id": "v9A8FOkQUsJ-"
      }
    },
    {
      "cell_type": "markdown",
      "source": [
        "Сколько чисел от 1 к 20 включительно делятся на 2?"
      ],
      "metadata": {
        "id": "R_SmDxNSUQg-"
      }
    },
    {
      "cell_type": "code",
      "execution_count": null,
      "metadata": {
        "id": "dSjd9eQ5ULKj",
        "colab": {
          "base_uri": "https://localhost:8080/"
        },
        "outputId": "d07b8e87-dc73-4501-e435-af5ebc7512f2"
      },
      "outputs": [
        {
          "output_type": "stream",
          "name": "stdout",
          "text": [
            "10\n"
          ]
        }
      ],
      "source": [
        "count_z = 0\n",
        "\n",
        "for k in range(20,0,-1):\n",
        "  if k%2 ==0:\n",
        "    count_z += 1   \n",
        "print (count_z)"
      ]
    },
    {
      "cell_type": "markdown",
      "source": [
        "Сколько чисел от 1 к 20 включительно делятся на 3?"
      ],
      "metadata": {
        "id": "_miZmq9_UjrC"
      }
    },
    {
      "cell_type": "code",
      "source": [
        "count_z = 0\n",
        "\n",
        "for k in range(20,0,-1):\n",
        "  if k%3 ==0:\n",
        "    count_z += 1   \n",
        "print (count_z)"
      ],
      "metadata": {
        "id": "aHR4myC-UjAJ",
        "colab": {
          "base_uri": "https://localhost:8080/"
        },
        "outputId": "0a41d906-124a-4dbf-e274-d4517b8e9e89"
      },
      "execution_count": null,
      "outputs": [
        {
          "output_type": "stream",
          "name": "stdout",
          "text": [
            "6\n"
          ]
        }
      ]
    },
    {
      "cell_type": "markdown",
      "source": [
        "Сколько чисел от 1 к 20 включительно делятся на 2 или на 3?"
      ],
      "metadata": {
        "id": "sM-ZWi1sUwJL"
      }
    },
    {
      "cell_type": "code",
      "source": [
        "count_z = 0\n",
        "\n",
        "for k in range(20,0,-1):\n",
        "  if k%2 ==0 and k%3 ==0:\n",
        "    count_z += 1   \n",
        "print (count_z)"
      ],
      "metadata": {
        "id": "nkzkDw2KU4xO",
        "colab": {
          "base_uri": "https://localhost:8080/"
        },
        "outputId": "3755be56-f435-459e-93bf-425b23564e63"
      },
      "execution_count": null,
      "outputs": [
        {
          "output_type": "stream",
          "name": "stdout",
          "text": [
            "3\n"
          ]
        }
      ]
    },
    {
      "cell_type": "markdown",
      "source": [
        "### Часть 2"
      ],
      "metadata": {
        "id": "fFdLusDTU5YH"
      }
    },
    {
      "cell_type": "markdown",
      "source": [
        "\n",
        "\n",
        "```\n",
        "for _ in range(7):\n",
        "        print(\"Hello world!\")\n",
        "for _ in range(6):\n",
        "        print(\"Hello world!\")\n",
        "```\n",
        "\n",
        "Сколько раз будет напечетана строка `\"Hello world!\"`?\n",
        "\n"
      ],
      "metadata": {
        "id": "6hmdf91WVGcf"
      }
    },
    {
      "cell_type": "code",
      "source": [
        "13"
      ],
      "metadata": {
        "id": "nLmrpDDdVYAO"
      },
      "execution_count": null,
      "outputs": []
    },
    {
      "cell_type": "markdown",
      "source": [
        "\n",
        "\n",
        "```\n",
        "for _ in range(8):\n",
        "        print(\"Hi!\")\n",
        "for _ in range(4):\n",
        "        print(\"Hi!\")\n",
        "for _ in range(7):\n",
        "        print(\"Hi!\")\n",
        "```\n",
        "\n",
        "Сколько раз будет напечетана строка `\"Hi!\"`?\n"
      ],
      "metadata": {
        "id": "MGe-cK-IVcaa"
      }
    },
    {
      "cell_type": "code",
      "source": [
        "19"
      ],
      "metadata": {
        "id": "M-bZoT0TVmd7"
      },
      "execution_count": null,
      "outputs": []
    },
    {
      "cell_type": "markdown",
      "source": [
        "### Часть 3"
      ],
      "metadata": {
        "id": "cv0_b7-WVsZm"
      }
    },
    {
      "cell_type": "markdown",
      "source": [
        "\n",
        "Найдите |A| в множестве `A={1,3,2,0,1,3}`."
      ],
      "metadata": {
        "id": "ljbBPrJ2V4Y5"
      }
    },
    {
      "cell_type": "code",
      "source": [
        "A = {1,3,2,0,1,3}\n",
        "z = len(A)\n",
        "print (z) \n",
        "print ('Если |A| - мульти-множество то - 6')"
      ],
      "metadata": {
        "id": "qPnC6xoJV3NP",
        "colab": {
          "base_uri": "https://localhost:8080/"
        },
        "outputId": "ed9ae7af-d73f-4c04-c174-d357ab414ffd"
      },
      "execution_count": null,
      "outputs": [
        {
          "output_type": "stream",
          "name": "stdout",
          "text": [
            "4\n",
            "Если |A| - мульти-множество то - 6\n"
          ]
        }
      ]
    },
    {
      "cell_type": "markdown",
      "source": [
        "`A={1,3,4,7,10,11}`. Какие из множеств являются подмножествами множества A?\n",
        "\n",
        "\n",
        "`B={1,7,11}`\n",
        "\n",
        "\n",
        "\n",
        "`С={1,3,4,8}`\n",
        "\n",
        "\n",
        "\n",
        "`D={}`\n",
        "\n",
        "\n",
        "\n",
        "`E={1,3,4,7,10,11}`\n",
        "\n",
        "\n",
        "\n",
        "`F={1,3,4,5,7,10,11}`"
      ],
      "metadata": {
        "id": "MAgxYWsMWKC7"
      }
    },
    {
      "cell_type": "code",
      "source": [
        "A={1,3,4,7,10,11}\n",
        "B={1,7,11}\n",
        "C={1,3,4,8}\n",
        "D={}\n",
        "E={1,3,4,7,10,11}\n",
        "F={1,3,4,5,7,10,11}\n",
        "\n",
        "def isSub(x,y):\n",
        "  if  isinstance(x,set) and x.issubset(y):\n",
        "    return True\n",
        "  else:\n",
        "    return False  \n",
        "\n",
        "array_sub = {'B': B,'C':C,'D':D,'E':E,'F':F}\n",
        "\n",
        "for name,value in array_sub.items():\n",
        "  if isSub(value,A):\n",
        "    print (name)\n",
        "   \n"
      ],
      "metadata": {
        "id": "8EQ8UFpBWbvr",
        "colab": {
          "base_uri": "https://localhost:8080/"
        },
        "outputId": "9d190d19-c097-4838-c7fe-de755d3c66c5"
      },
      "execution_count": null,
      "outputs": [
        {
          "output_type": "stream",
          "name": "stdout",
          "text": [
            "B\n",
            "E\n"
          ]
        }
      ]
    },
    {
      "cell_type": "markdown",
      "source": [
        "Дано множества `A={1,2,4,5,6}` и `B={1,2,3,5,7}`. Какое пересечение множеств А и В?\n",
        "\n",
        "\n",
        "`A∩B={1,3,5,7}`\n",
        "\n",
        "\n",
        "\n",
        "`A∩B={1,2,5}`\n",
        "\n",
        "\n",
        "\n",
        "`A∩B={1,2,3,4,5,6,7}`\n",
        "\n",
        "\n",
        "\n",
        "`A∩B={2,5}`"
      ],
      "metadata": {
        "id": "6lbTxr0iWy_m"
      }
    },
    {
      "cell_type": "code",
      "source": [
        "A={1,2,4,5,6}\n",
        "B={1,2,3,5,7}\n",
        "\n",
        "C = A & B\n",
        "print ('A∩B =',C)\n",
        "\n"
      ],
      "metadata": {
        "id": "D6UJfkYVXAQ0",
        "colab": {
          "base_uri": "https://localhost:8080/"
        },
        "outputId": "5d171510-24d3-4351-fb3f-683efd2ffcb8"
      },
      "execution_count": null,
      "outputs": [
        {
          "output_type": "stream",
          "name": "stdout",
          "text": [
            "A∩B = {1, 2, 5}\n"
          ]
        }
      ]
    },
    {
      "cell_type": "markdown",
      "source": [
        "Какое объединение множеств `A={1,2,4,5,7}` и `B={1,2,3,5,6}`?\n",
        "\n",
        "\n",
        "`A∪B={1,3,5,7}`\n",
        "\n",
        "\n",
        "\n",
        "`A∪B={1,2,5}`\n",
        "\n",
        "\n",
        "\n",
        "`A∪B={1,2,3,4,5,6,7}`\n",
        "\n",
        "\n",
        "\n",
        "`A∪B={1,2,4,5,7}`"
      ],
      "metadata": {
        "id": "qxhXLVRMXTg6"
      }
    },
    {
      "cell_type": "code",
      "source": [
        "A={1,2,4,5,7}\n",
        "B={1,2,3,5,6}\n",
        "\n",
        "C = A | B\n",
        "print ('A∪B = ',C)"
      ],
      "metadata": {
        "id": "G_3Mf7QaXnLH",
        "colab": {
          "base_uri": "https://localhost:8080/"
        },
        "outputId": "ca8babb1-4ece-437d-ecc1-10ad725556ea"
      },
      "execution_count": null,
      "outputs": [
        {
          "output_type": "stream",
          "name": "stdout",
          "text": [
            "A∪B =  {1, 2, 3, 4, 5, 6, 7}\n"
          ]
        }
      ]
    },
    {
      "cell_type": "markdown",
      "source": [
        "### Часть 4"
      ],
      "metadata": {
        "id": "Md2tKTdrXo61"
      }
    },
    {
      "cell_type": "markdown",
      "source": [
        "**Question 1**\n",
        "\n",
        "В нашем датасете 40 видео. Каждое видео принадлежит хотя бы одной категории -- комедии и мюзиклы. Есть 27 комедий и 22 мюзикла. Сколько видео относятся к обеим категориям одновременно?\n"
      ],
      "metadata": {
        "id": "ua6NDhPnXzL5"
      }
    },
    {
      "cell_type": "code",
      "source": [
        "len_A = 27 # комедии   |A|\n",
        "len_B  = 22 # мюзиклы |B| \n",
        "# count  |A∩B|\n",
        "\n",
        "count = len_A + len_B - 40\n",
        "print (count) \n"
      ],
      "metadata": {
        "id": "sJNKOWDJXyYs",
        "colab": {
          "base_uri": "https://localhost:8080/"
        },
        "outputId": "3256bd4c-0a21-4c32-8504-e16030f675db"
      },
      "execution_count": null,
      "outputs": [
        {
          "output_type": "stream",
          "name": "stdout",
          "text": [
            "9\n"
          ]
        }
      ]
    },
    {
      "cell_type": "markdown",
      "source": [
        "**Question 2**\n",
        "\n",
        "Сколько чисел от 1 к 1000 включительно делятся на 2 или на 3?"
      ],
      "metadata": {
        "id": "qU_70cvRYTvj"
      }
    },
    {
      "cell_type": "code",
      "source": [
        "count_z = 0\n",
        "for k in range(1000,0,-1):\n",
        "  if k%2 ==0 and k%3 ==0:\n",
        "    count_z += 1   \n",
        "print (count_z)"
      ],
      "metadata": {
        "id": "sA-17EaMZGJl",
        "colab": {
          "base_uri": "https://localhost:8080/"
        },
        "outputId": "a370a66c-c677-4ce5-ff77-25b6b2eb5654"
      },
      "execution_count": null,
      "outputs": [
        {
          "output_type": "stream",
          "name": "stdout",
          "text": [
            "169\n"
          ]
        }
      ]
    },
    {
      "cell_type": "markdown",
      "source": [
        "**Question 3**\n",
        "\n",
        "Сколько чисел от 1 к 1000 включительно не делятся на 2 и на 3?"
      ],
      "metadata": {
        "id": "O4dVh54ZZH10"
      }
    },
    {
      "cell_type": "code",
      "source": [
        "count_z = 0\n",
        "for k in range(1000,0,-1):\n",
        "  if not k%2 ==0 and not k%3 ==0:\n",
        "    count_z += 1   \n",
        "print (count_z)"
      ],
      "metadata": {
        "id": "BQfaHsg6ZaNf",
        "colab": {
          "base_uri": "https://localhost:8080/"
        },
        "outputId": "d9eed8b0-cfe7-4b6d-cffc-1c69a12f93a5"
      },
      "execution_count": null,
      "outputs": [
        {
          "output_type": "stream",
          "name": "stdout",
          "text": [
            "502\n"
          ]
        }
      ]
    },
    {
      "cell_type": "markdown",
      "source": [
        "### Часть **5**"
      ],
      "metadata": {
        "id": "VMonWHtNZkUI"
      }
    },
    {
      "cell_type": "markdown",
      "source": [
        "Сколько существует путей с точки `s` в точку `t`?"
      ],
      "metadata": {
        "id": "z4S8sPOuZwmJ"
      }
    },
    {
      "cell_type": "markdown",
      "source": [
        "![Cgrl6xANQRuK5esQDbEbKg_5155eedd370785f8376a9bb641071f41_number-of-paths.png](data:image/png;base64,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)"
      ],
      "metadata": {
        "id": "8XUK1j2EZqwt"
      }
    },
    {
      "cell_type": "code",
      "source": [
        "class Solution(object):\n",
        "\tdef allPathsSourceTarget(self, graph):\n",
        "\t\t\"\"\"\n",
        "\t\t:type graph: List[List[int]]\n",
        "\t\t:rtype: List[List[int]]\n",
        "\t\t\"\"\"\n",
        "\t\tnodes_num = len(graph) # количесто узлов\n",
        "\t\tresults = list() \n",
        "\t\tpath = list()\n",
        "\t\tfrom copy import deepcopy\n",
        "\n",
        "\t\tdef dfs(node_id, graph, path, results):  # поиск в глубину\n",
        "\t\t\tpath += [node_id]\n",
        "\t\t\tif node_id == nodes_num-1: \n",
        "\t\t\t\tpath_copy = deepcopy(path)\n",
        "\t\t\t\tresults.append(path_copy)\n",
        "\t\t\telse: \n",
        "\t\t\t\tfor nxt_node_id in graph[node_id]: \n",
        "\t\t\t\t\tdfs(nxt_node_id, graph, path, results)\n",
        "\t\t\tpath.pop()\n",
        "\n",
        "\t\tdfs(0, graph, path, results) #\n",
        "\t\treturn results\n",
        "\n",
        "graph = [[1,2],[3,4],[3,5],[4,5,6],[6],[6],[]]\n",
        "obj = Solution()\n",
        "res = obj.allPathsSourceTarget(graph)\n",
        "print ('Количество путей: ',len(res))"
      ],
      "metadata": {
        "id": "xL4ZJ3qAZmaG",
        "colab": {
          "base_uri": "https://localhost:8080/"
        },
        "outputId": "24929f32-877b-4e8a-fdc5-f40c5f4ddc3d"
      },
      "execution_count": null,
      "outputs": [
        {
          "output_type": "stream",
          "name": "stdout",
          "text": [
            "Количество путей:  8\n"
          ]
        }
      ]
    },
    {
      "cell_type": "markdown",
      "source": [
        "### Часть 6"
      ],
      "metadata": {
        "id": "K4xLsx4mZ9_1"
      }
    },
    {
      "cell_type": "markdown",
      "source": [
        "У нас есть 7 разных датасетов по 12 записей в каждом. Сколько всего записей у нас?"
      ],
      "metadata": {
        "id": "DbtZWPTWaPv4"
      }
    },
    {
      "cell_type": "code",
      "source": [
        "84"
      ],
      "metadata": {
        "id": "yGHhySx-aOoA"
      },
      "execution_count": null,
      "outputs": []
    },
    {
      "cell_type": "markdown",
      "source": [
        "Сколько у нас связей между точками?"
      ],
      "metadata": {
        "id": "BbGdoiKBalgW"
      }
    },
    {
      "cell_type": "markdown",
      "source": [
        "![3epIK9ygTKqqSCvcoLyqsg_82f188ee7536582e559b5aeaf7aa6faf_product_rule.png](data:image/png;base64,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)"
      ],
      "metadata": {
        "id": "gdIhrYlLaZt9"
      }
    },
    {
      "cell_type": "code",
      "source": [
        "42 "
      ],
      "metadata": {
        "id": "GwGnWbQtan3q"
      },
      "execution_count": null,
      "outputs": []
    },
    {
      "cell_type": "markdown",
      "source": [
        "### Часть 7"
      ],
      "metadata": {
        "id": "5u0OkX2Ka4Ym"
      }
    },
    {
      "cell_type": "markdown",
      "source": [
        "\n",
        "\n",
        "```\n",
        "for _ in range(4):\n",
        "        for _ in range(8):\n",
        "                print(\"Hello world!\")\n",
        "```\n",
        "\n",
        "Сколько раз будет напечетана строка `\"Hello world!\"`?"
      ],
      "metadata": {
        "id": "NDdysOiDa7Ht"
      }
    },
    {
      "cell_type": "code",
      "source": [
        "k = 0\n",
        "for _ in range(4):\n",
        "        for _ in range(8):\n",
        "                k +=1\n",
        "print (k) "
      ],
      "metadata": {
        "id": "Pi39nRYNa6b0",
        "colab": {
          "base_uri": "https://localhost:8080/"
        },
        "outputId": "4f47b902-dd80-4f9e-bace-fc395381bdb5"
      },
      "execution_count": null,
      "outputs": [
        {
          "output_type": "stream",
          "name": "stdout",
          "text": [
            "32\n"
          ]
        }
      ]
    },
    {
      "cell_type": "markdown",
      "source": [
        "\n",
        "\n",
        "```\n",
        "for _ in range(2):\n",
        "        for _ in range(7):\n",
        "                for _ in range(3):\n",
        "                        print(\"Hello world!\")\n",
        "```\n",
        "\n",
        "\n",
        "\n",
        "Сколько раз будет напечетана строка `\"Hello world!\"`?"
      ],
      "metadata": {
        "id": "A-k_QdidbBbz"
      }
    },
    {
      "cell_type": "code",
      "source": [
        "k = 0\n",
        "for _ in range(2):\n",
        "        for _ in range(7):\n",
        "                for _ in range(3):\n",
        "                  k +=1\n",
        "print (k)"
      ],
      "metadata": {
        "id": "VL1WASFlbJWW",
        "colab": {
          "base_uri": "https://localhost:8080/"
        },
        "outputId": "cc629bb2-8038-4aee-a76f-f0ba5e15b335"
      },
      "execution_count": null,
      "outputs": [
        {
          "output_type": "stream",
          "name": "stdout",
          "text": [
            "42\n"
          ]
        }
      ]
    },
    {
      "cell_type": "markdown",
      "source": [
        "\n",
        "\n",
        "```\n",
        "for _ in range(4):\n",
        "        for _ in range(4):\n",
        "                print(\"Hello world!\")\n",
        "for _ in range(7):\n",
        "        for _ in range(3):\n",
        "                print(\"Hello world!\")\n",
        "```\n",
        "\n",
        "Сколько раз будет напечетана строка `\"Hello world!\"`?"
      ],
      "metadata": {
        "id": "qMPwHp0wbNjc"
      }
    },
    {
      "cell_type": "code",
      "source": [
        "37 # 4*4 + 7*3"
      ],
      "metadata": {
        "id": "G4AWBU3pbNO0"
      },
      "execution_count": null,
      "outputs": []
    },
    {
      "cell_type": "markdown",
      "source": [
        "### Часть 8"
      ],
      "metadata": {
        "id": "isJ1fhHMbV_V"
      }
    },
    {
      "cell_type": "markdown",
      "source": [
        "Сколько 5-цифровых чисел можно создать из цифр 1, 2, 3, 4 и 5. Каждую цифру можно использовать только один раз."
      ],
      "metadata": {
        "id": "r0ElBf2Lbqxl"
      }
    },
    {
      "cell_type": "code",
      "source": [
        "5! # 5 ! / (5-5)! = 120"
      ],
      "metadata": {
        "id": "3ivhpOL5bpmR"
      },
      "execution_count": null,
      "outputs": []
    },
    {
      "cell_type": "markdown",
      "source": [
        "Сколько чисел от 0 до 9999 имеют в своем записи ровно одну 7 и одну 2?"
      ],
      "metadata": {
        "id": "F6Hw4sBkb86g"
      }
    },
    {
      "cell_type": "code",
      "source": [
        "# имея четырехзначные числа, если две цифры известны, вторые две можно выбрать 8**2=64 способами c включением 2 и 3-значных, где в старших разрядах нули.\n",
        "# если ставим двойку на одно из 4-х мест и семерку на одно из 3-х, а из остальных 8-ми цифр составляем 8*8=64 комбинации. Получается всего 4*3*8*8 требуемых чисел = 786.\n",
        "\n",
        "\n",
        "# Проверка формулы\n",
        "t = range (9999)\n",
        "print (t)\n",
        "\n",
        "count = 0\n",
        "for el in t:\n",
        "  el_str = str(el)\n",
        "  if '2' in el_str and  '7' in el_str and el_str.count('2')==1 and el_str.count('7')==1 :\n",
        "    count +=1\n",
        "  \n",
        "print (count)\n",
        "\n"
      ],
      "metadata": {
        "id": "08_rZMyicOKm",
        "colab": {
          "base_uri": "https://localhost:8080/"
        },
        "outputId": "f6bd1501-20b4-4ff0-a60f-20118ce94874"
      },
      "execution_count": null,
      "outputs": [
        {
          "output_type": "stream",
          "name": "stdout",
          "text": [
            "range(0, 9999)\n",
            "768\n"
          ]
        }
      ]
    }
  ]
}