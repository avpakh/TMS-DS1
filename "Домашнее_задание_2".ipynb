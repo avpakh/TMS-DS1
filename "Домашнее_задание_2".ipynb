{
  "nbformat": 4,
  "nbformat_minor": 0,
  "metadata": {
    "colab": {
      "name": "\"Домашнее задание - 2\"",
      "provenance": [],
      "collapsed_sections": [],
      "include_colab_link": true
    },
    "kernelspec": {
      "name": "python3",
      "display_name": "Python 3"
    },
    "language_info": {
      "name": "python"
    }
  },
  "cells": [
    {
      "cell_type": "markdown",
      "metadata": {
        "id": "view-in-github",
        "colab_type": "text"
      },
      "source": [
        "<a href=\"https://colab.research.google.com/github/avpakh/TMS-DS1/blob/main/%22%D0%94%D0%BE%D0%BC%D0%B0%D1%88%D0%BD%D0%B5%D0%B5_%D0%B7%D0%B0%D0%B4%D0%B0%D0%BD%D0%B8%D0%B5_2%22.ipynb\" target=\"_parent\"><img src=\"https://colab.research.google.com/assets/colab-badge.svg\" alt=\"Open In Colab\"/></a>"
      ]
    },
    {
      "cell_type": "markdown",
      "source": [
        "# Product of Array Except Self"
      ],
      "metadata": {
        "id": "ABE2DBiL0I5x"
      }
    },
    {
      "cell_type": "markdown",
      "source": [
        "Given an integer list `nums`, return a list answer such that `answer[i]` is equal to the product of all the elements of `nums` except `nums[i]`.\n",
        "\n",
        "The product of any prefix or suffix of `nums` is **guaranteed** to fit in a 32-bit integer.\n",
        "\n",
        "You must write an algorithm that runs in `O(n)` time and without using the division operation. -- сдесь `O(n)` означает, что вы должны решить эту задачу не использовав вложенные цыклы, и сложность позволяет сделать только один цыкл по элементах исходного списка и не использовав деление.\n",
        "\n",
        "[Origin LeetCode problem](https://leetcode.com/problems/product-of-array-except-self/)"
      ],
      "metadata": {
        "id": "vhuK6ihw0IRy"
      }
    },
    {
      "cell_type": "markdown",
      "source": [
        "**Example 1:**\n",
        "\n",
        "**Input:** `nums = [1,2,3,4]`\n",
        "**Output:** `[24,12,8,6]`\n",
        "\n",
        "**Example 2:**\n",
        "\n",
        "**Input:** `nums = [-1,1,0,-3,3]`\n",
        "**Output:** `[0,0,9,0,0]`"
      ],
      "metadata": {
        "id": "Niq9ppbC1B1D"
      }
    },
    {
      "cell_type": "code",
      "execution_count": null,
      "metadata": {
        "id": "9204OXCtqQiU",
        "colab": {
          "base_uri": "https://localhost:8080/"
        },
        "outputId": "62ed6a00-f5db-48f5-ab18-299ed5fdde18"
      },
      "outputs": [
        {
          "output_type": "stream",
          "name": "stdout",
          "text": [
            "Requirement already satisfied: numpy in /usr/local/lib/python3.7/dist-packages (1.19.5)\n",
            "Example 1\n",
            "Input  =  [1, 2, 3, 4]  Output= [24, 12, 8, 6]\n",
            "Example 2\n",
            "Input  =  [-1, 1, 0, -3, 3]  Output= [0, 0, 9, 0, 0]\n"
          ]
        }
      ],
      "source": [
        "from copy import deepcopy\n",
        "import numpy as np\n",
        "\n",
        "\n",
        "class Solution:\n",
        "    def productExceptSelf(self, nums):\n",
        "        \n",
        "        def production_array(self, nums):\n",
        "            return np.prod(nums)\n",
        "            \n",
        "            \n",
        "        len_nums= len(nums) # размер массива\n",
        "        i = 0\n",
        "        result = [] \n",
        "        \n",
        "        while i<len_nums:\n",
        "            working_array = deepcopy(nums) \n",
        "            working_array.pop(i)\n",
        "            result.append(production_array(self,working_array))\n",
        "            i = i + 1\n",
        "        \n",
        "        \n",
        "        return result\n",
        "\n",
        "!pip install numpy\n",
        "\n",
        "print ('Example 1')\n",
        "obj = Solution()\n",
        "nums = [1,2,3,4]\n",
        "result = obj.productExceptSelf(nums)\n",
        "print ('Input  = ',nums, ' Output=',result)\n",
        "print ('Example 2')\n",
        "obj = Solution()\n",
        "nums = [-1,1,0,-3,3]\n",
        "result = obj.productExceptSelf(nums)\n",
        "print ('Input  = ',nums, ' Output=',result)\n",
        "\n"
      ]
    },
    {
      "cell_type": "markdown",
      "source": [
        "# Power of Four (recursion)"
      ],
      "metadata": {
        "id": "ZIWMVQPV1RyG"
      }
    },
    {
      "cell_type": "markdown",
      "source": [
        "Given an `integer n`, return `true` if it is a power of four. Otherwise, return `false`.\n",
        "\n",
        "An `integer n` is a power of four, if there exists an `integer x` such that `n == 4x`.\n",
        "\n",
        "[Origin LeetCode problem](https://leetcode.com/problems/power-of-four/)"
      ],
      "metadata": {
        "id": "giVKfAg42Zmn"
      }
    },
    {
      "cell_type": "markdown",
      "source": [
        "Example 1:\n",
        "\n",
        "Input: `n = 16`\n",
        "Output: `true`\n",
        "\n",
        "Example 2:\n",
        "\n",
        "Input: `n = 5`\n",
        "Output: `false`\n",
        "\n",
        "Example 3:\n",
        "\n",
        "Input: `n = 1`\n",
        "Output: true"
      ],
      "metadata": {
        "id": "blLx9WRG2u-3"
      }
    },
    {
      "cell_type": "code",
      "source": [
        "class Solution:\n",
        "    def isPowerOfFour(self, n: int) -> bool:\n",
        "        if n==0:\n",
        "            return False # \n",
        "    \n",
        "        if n==1 or n==4:\n",
        "            return True # выход из рекурсии \n",
        "    \n",
        "        if n%4 == 0:  # проверка на целочисленное деление числа n на 4 \n",
        "            return self.isPowerOfFour(n//4) # вызов рекурсии для числа n \n",
        "    \n",
        "        \n",
        "        else:\n",
        "            return False \n",
        "\n",
        "print ('Example 1')\n",
        "obj = Solution()\n",
        "n = 16\n",
        "result = obj.isPowerOfFour(n)\n",
        "print ('Input  = ',n, ' Output=',result)"
      ],
      "metadata": {
        "id": "gW41VRd12uBm",
        "colab": {
          "base_uri": "https://localhost:8080/"
        },
        "outputId": "f0c2d3cc-5272-48da-d528-0b134d461cd9"
      },
      "execution_count": null,
      "outputs": [
        {
          "output_type": "stream",
          "name": "stdout",
          "text": [
            "Example 1\n",
            "Input  =  16  Output= True\n"
          ]
        }
      ]
    },
    {
      "cell_type": "markdown",
      "source": [
        "# Predict the Winner (recursion)"
      ],
      "metadata": {
        "id": "Jxw2TeKg3IE3"
      }
    },
    {
      "cell_type": "markdown",
      "source": [
        "You are given an integer list `nums`. Two players are playing a game with this list: `player 1` and `player 2`.\n",
        "\n",
        "`Player 1` and `player 2` take turns, with `player 1` starting first. Both players start the game with a score of `0`. At each turn, the player takes one of the numbers from either end of the list (i.e., `nums[0]` or `nums[nums.length - 1]`) which reduces the size of the list by 1. The player adds the chosen number to their score. The game ends when there are no more elements in the array.\n",
        "\n",
        "Return `true` if `Player 1` can win the game. If the scores of both players are equal, then `player 1` is still the winner, and you should also return true. You may assume that both players are playing optimally.\n",
        "\n",
        "[Origin LeetCode problem](https://leetcode.com/problems/predict-the-winner/)"
      ],
      "metadata": {
        "id": "1pnc3eIs3K0s"
      }
    },
    {
      "cell_type": "markdown",
      "source": [
        "**Example 1:**\n",
        "\n",
        "**Input:** `nums = [1,5,2]`\n",
        "**Output:** `false`\n",
        "\n",
        "**Explanation:** Initially, `player 1` can choose between 1 and 2. \n",
        "If he chooses 2 (or 1), then `player 2` can choose from 1 (or 2) and 5. If `player 2` chooses 5, then `player 1` will be left with 1 (or 2). \n",
        "So, final `score` of `player 1` is `1 + 2 = 3`, and `player 2` is `5`. \n",
        "Hence, `player 1` will never be the winner and you need to return false."
      ],
      "metadata": {
        "id": "Rk4vI4pv3lyO"
      }
    },
    {
      "cell_type": "code",
      "source": [
        "class Solution:  \n",
        "    def PredictTheWinner(self, nums):\n",
        "        \n",
        "        def chanceWin(nums, pl1, pl2, isFirstTurn):\n",
        "            if not nums:\n",
        "                if (pl1 >= pl2 and isFirstTurn) or (pl2 > pl1 and not isFirstTurn): # условия выхода из рекурсии\n",
        "                    return True\n",
        "                else:\n",
        "                    return False\n",
        "                \n",
        "            if isFirstTurn:\n",
        "                return not chanceWin(nums[1:], pl1 + nums[0], pl2, not isFirstTurn) \\\n",
        "                       or not chanceWin(nums[:len(nums) - 1], pl1 + nums[-1], pl2, not isFirstTurn)\n",
        "            else:\n",
        "                return not chanceWin(nums[1:], pl1, pl2 + nums[0], not isFirstTurn) \\\n",
        "                       or not chanceWin(nums[:len(nums) - 1], pl1, pl2 + nums[-1], not isFirstTurn)\n",
        "        \n",
        "        return chanceWin(nums, 0, 0, True)\n",
        "\n",
        "\n",
        "print ('Example 1')\n",
        "obj = Solution()\n",
        "nums = [1,5,2]\n",
        "result = obj.PredictTheWinner(nums=nums)\n",
        "print ('Input  = ',nums, ' Output=',result)\n",
        "print ('Example 2')\n",
        "obj = Solution()\n",
        "nums = [1,5,2,255,456,500]\n",
        "result = obj.PredictTheWinner(nums=nums)\n",
        "print ('Input  = ',nums, ' Output=',result)"
      ],
      "metadata": {
        "id": "iAy6BZBA3KOl",
        "colab": {
          "base_uri": "https://localhost:8080/"
        },
        "outputId": "c125ce9c-5005-450d-d3f6-00fe1ce85326"
      },
      "execution_count": null,
      "outputs": [
        {
          "output_type": "stream",
          "name": "stdout",
          "text": [
            "Example 1\n",
            "Input  =  [1, 5, 2]  Output= False\n",
            "Example 2\n",
            "Input  =  [1, 5, 2, 255, 456, 500]  Output= True\n"
          ]
        }
      ]
    },
    {
      "cell_type": "markdown",
      "source": [
        "# Basic Calculator"
      ],
      "metadata": {
        "id": "Fx_6jMOV4GlU"
      }
    },
    {
      "cell_type": "markdown",
      "source": [
        "Given a `string s` representing a valid expression, implement a basic calculator to evaluate it, and return the result of the evaluation.\n",
        "\n",
        "**Note:** You are not allowed to use any built-in function which evaluates strings as mathematical expressions, such as `eval()`.\n",
        "\n",
        "`s` consists of digits, `'+', '-', '(', ')'` and `' '`.\n",
        "\n",
        "[Origin LeetCode problem](https://leetcode.com/problems/basic-calculator/)"
      ],
      "metadata": {
        "id": "Dg7fSRnU4kmf"
      }
    },
    {
      "cell_type": "markdown",
      "source": [
        "**Example 1:**\n",
        "\n",
        "**Input:** s = \"1 + 1\"\n",
        "**Output:** `2`\n",
        "\n",
        "**Example 2:**\n",
        "\n",
        "**Input:** `s = \" 2-1 + 2 \"`\n",
        "**Output:** `3`\n",
        "\n",
        "**Example 3:**\n",
        "\n",
        "**Input:** `s = \"(1+(4+5+2)-3)+(6+8)\"`\n",
        "**Output:** `23`"
      ],
      "metadata": {
        "id": "WSJprKFw43Kp"
      }
    },
    {
      "cell_type": "code",
      "source": [
        "import re\n",
        "class Solution:\n",
        "   \n",
        "    def calc(self, s: str) -> int:\n",
        "        s = re.sub(r'\\s|\\t', '', s.strip()) # удаление пробелов\n",
        "        \n",
        "        operators = [] # начальные условия\n",
        "        stack =  [0] \n",
        "        idx = 0 # индекс  и размер строки\n",
        "        n = len(s) \n",
        "        sign = 1 # \n",
        "    \n",
        "        while idx < n:  # задание цикла по условию \n",
        "            \n",
        "            current = s[idx] # значение текущего символа \n",
        "                 \n",
        "            if current =='+': \n",
        "                sign = 1\n",
        "            elif current =='-': \n",
        "                sign = -1\n",
        "            elif current == '(':  # если значение строки - открытие скобки\n",
        "                operators.append(sign)\n",
        "                stack.append(0)\n",
        "                sign = 1\n",
        "            else:\n",
        "                if current.isdigit(): # если число\n",
        "                    num = current\n",
        "                  \n",
        "                    while (idx<n-1) and s[idx+1].isdigit(): \n",
        "                        idx += 1\n",
        "                        num += s[idx]\n",
        "                    num = int(num) * sign\n",
        "                  \n",
        "                else:\n",
        "                    num = stack.pop() * operators.pop() # если значение строки - закрытие скобки\n",
        "                                     \n",
        "                if stack: \n",
        "                    stack[-1] += num # текущее значение в стеке\n",
        "               \n",
        "                    \n",
        "                else: \n",
        "                    stack.append(num)    \n",
        "                   \n",
        "            \n",
        "            idx += 1\n",
        "        \n",
        "        return stack[-1] # результат\n",
        "\n",
        "print ('Example 1')\n",
        "obj = Solution()\n",
        "s = \"(1+(4+5+2)-3)+(6+8)\"\n",
        "result = obj.calc(s=s)\n",
        "print ('Input  = ',s, ' Output=',result)"
      ],
      "metadata": {
        "id": "_ot-UHox42pE",
        "colab": {
          "base_uri": "https://localhost:8080/"
        },
        "outputId": "8225c333-4e80-41a1-9d38-d6e5837afaa5"
      },
      "execution_count": null,
      "outputs": [
        {
          "output_type": "stream",
          "name": "stdout",
          "text": [
            "Example 1\n",
            "Input  =  (1+(4+5+2)-3)+(6+8)  Output= 23\n"
          ]
        }
      ]
    },
    {
      "cell_type": "markdown",
      "source": [
        "# Reorder List"
      ],
      "metadata": {
        "id": "KLDD2lH_5bcL"
      }
    },
    {
      "cell_type": "markdown",
      "source": [
        "You are given the head of a singly linked-list. The list can be represented as:\n",
        "\n",
        "`L0 → L1 → … → Ln - 1 → Ln`\n",
        "Reorder the list to be on the following form:\n",
        "\n",
        "`L0 → Ln → L1 → Ln - 1 → L2 → Ln - 2 → …`\n",
        "You may not modify the values in the list's nodes. Only nodes themselves may be changed.\n",
        "\n",
        "[Origin LeetCode problem](https://leetcode.com/problems/reorder-list/)"
      ],
      "metadata": {
        "id": "P4JJsDEA6jOH"
      }
    },
    {
      "cell_type": "markdown",
      "source": [
        "**Example 1:**\n",
        "\n",
        "\n",
        "**Input:** `head = [1,2,3,4]`\n",
        "**Output:** `[1,4,2,3]`\n",
        "\n",
        "**Example 2:**\n",
        "\n",
        "\n",
        "**Input:** `head = [1,2,3,4,5]`\n",
        "**Output:** `[1,5,2,4,3]`"
      ],
      "metadata": {
        "id": "DBhbktkP6wOg"
      }
    },
    {
      "cell_type": "code",
      "source": [
        "\n",
        "class Solution:\n",
        "\n",
        "    class ListNode:\n",
        "        def __init__(self, val=0, next=None):\n",
        "           self.val = val\n",
        "           self.next = next\n",
        "\n",
        "    def reorderList(self, head: ListNode) -> None:\n",
        "        \"\"\"\n",
        "        Do not return anything, modify head in-place instead.\n",
        "        \"\"\"\n",
        "            \n",
        "        prev = None        # узел перемещения\n",
        "        run_element = head # начальные условия   \n",
        "        \n",
        "        if not head : # проверка на наличие одиночночного узла  \n",
        "            return\n",
        "        \n",
        "        while run_element: # определение элемента узла для первой вставки\n",
        "            run_element.prev = prev\n",
        "            prev = run_element\n",
        "            run_element = run_element.next\n",
        "          \n",
        "    \n",
        "       # переопределение узлов                 \n",
        "        while head and prev and  head!=prev and head.next != prev:\n",
        "            temp = head.next # сохранение списка узлов для замещения элемента (prev) в позицию head.next \n",
        "            prev.next = head.next # определение последующего cписка узлов для вставляемого элемента (prev)\n",
        "            head.next = prev # переопределение элемента prev на позицию head.next \n",
        "            prev = prev.prev # определение элемента из конца списка на следующе замещение\n",
        "            head = temp # возврат порядка списка узлов для следующей перестановки в цикле или выхода по условию\n",
        "                \n",
        "        if head.next == prev: # проверка на наличие ссылок (ссылка на последний перемещенный элемент) \n",
        "            prev.next = None\n",
        "        else:\n",
        "            prev.next = head.next # \n",
        "            head.next = None\n",
        "\n",
        "\n",
        "t4 = ListNode(val=4,next=None)\n",
        "t3 = ListNode(val=3,next=t4)\n",
        "t2 = ListNode(val=2,next=t3)\n",
        "t1 = ListNode(val=1,next=t2)\n",
        "head = t1\n",
        "obj = Solution()\n",
        "obj.reorderList(head)\n",
        "\n",
        "print (head.val,head.next.val,head.next.next.val)"
      ],
      "metadata": {
        "id": "x9ncU_a06iep",
        "colab": {
          "base_uri": "https://localhost:8080/"
        },
        "outputId": "6ce5d8f4-d1f5-4638-a396-0fb0d450f8b7"
      },
      "execution_count": null,
      "outputs": [
        {
          "output_type": "stream",
          "name": "stdout",
          "text": [
            "1 4 2\n"
          ]
        }
      ]
    }
  ]
}