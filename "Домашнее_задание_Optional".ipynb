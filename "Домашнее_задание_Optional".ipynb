{
  "nbformat": 4,
  "nbformat_minor": 0,
  "metadata": {
    "colab": {
      "name": "\"Домашнее задание Optional\"",
      "provenance": [],
      "collapsed_sections": [],
      "include_colab_link": true
    },
    "kernelspec": {
      "name": "python3",
      "display_name": "Python 3"
    },
    "language_info": {
      "name": "python"
    }
  },
  "cells": [
    {
      "cell_type": "markdown",
      "metadata": {
        "id": "view-in-github",
        "colab_type": "text"
      },
      "source": [
        "<a href=\"https://colab.research.google.com/github/avpakh/TMS-DS1/blob/main/%22%D0%94%D0%BE%D0%BC%D0%B0%D1%88%D0%BD%D0%B5%D0%B5_%D0%B7%D0%B0%D0%B4%D0%B0%D0%BD%D0%B8%D0%B5_Optional%22.ipynb\" target=\"_parent\"><img src=\"https://colab.research.google.com/assets/colab-badge.svg\" alt=\"Open In Colab\"/></a>"
      ]
    },
    {
      "cell_type": "markdown",
      "metadata": {
        "id": "v3EGyn9xV9hy"
      },
      "source": [
        "# **1. 3 Sum**"
      ]
    },
    {
      "cell_type": "markdown",
      "metadata": {
        "id": "9ATDMNvqV2kL"
      },
      "source": [
        "Given a `list` ood `integers`, return all the triplets `[nums[i], nums[j], nums[k]]` such that `i != j`, `i != k`, and `j != k`, and `nums[i] + nums[j] + nums[k] == 0`.\n",
        "\n",
        "Notice that the solution set must not contain duplicate triplets.\n",
        "\n",
        "[Origin task on LeetCode](https://leetcode.com/problems/3sum/)"
      ]
    },
    {
      "cell_type": "markdown",
      "metadata": {
        "id": "BSiEhRmyoYpQ"
      },
      "source": [
        "**Example 1:**\n",
        "\n",
        "**Input:** `nums = [-1,0,1,2,-1,-4]`\n",
        "**Output:** `[[-1,-1,2],[-1,0,1]]`\n",
        "\n",
        "**Example 2:**\n",
        "\n",
        "**Input:** `nums = []`\n",
        "**Output:** `[]`\n",
        "\n",
        "**Example 3:**\n",
        "\n",
        "**Input:** `nums = [0]`\n",
        "**Output:** `[]`"
      ]
    },
    {
      "cell_type": "code",
      "metadata": {
        "id": "irFnoXPtVSDg",
        "colab": {
          "base_uri": "https://localhost:8080/"
        },
        "outputId": "e0dd8069-6c7b-4e28-8753-9ab2432ee910"
      },
      "source": [
        "class Solution:\n",
        "    def threeSum(self, nums):\n",
        "        \n",
        "        nums1,nums2,nums3 = nums,nums,nums\n",
        "        \n",
        "        result = []\n",
        "        \n",
        "        for i in range(len(nums)):                  # i\n",
        "            for j in range(len(nums)):              # j  \n",
        "                for k in range(len(nums)):          # k\n",
        "                    \n",
        "                    if (i != j) and (i != k) and (j != k) and ((nums[i] + nums[j] + nums[k]) ==0):\n",
        "                        v = []\n",
        "                        v.append(nums[i])\n",
        "                        v.append(nums[j])\n",
        "                        v.append(nums[k])\n",
        "                        v = sorted(v)\n",
        "                        if not v in result:\n",
        "                            result.append(v)\n",
        "                      \n",
        "        return result\n",
        "nums = [-1,0,1,2,-1,-4] \n",
        "obj = Solution()\n",
        "result = obj.threeSum(nums)\n",
        "print ('Example 1', 'Input: nums',nums, 'Output:',result)                 "
      ],
      "execution_count": null,
      "outputs": [
        {
          "output_type": "stream",
          "name": "stdout",
          "text": [
            "Example 1 Input: nums [-1, 0, 1, 2, -1, -4] Output: [[-1, 0, 1], [-1, -1, 2]]\n"
          ]
        }
      ]
    },
    {
      "cell_type": "markdown",
      "metadata": {
        "id": "YHUyt8iEMTm7"
      },
      "source": [
        "# **2. Merge Intervals**"
      ]
    },
    {
      "cell_type": "markdown",
      "metadata": {
        "id": "fOMijWY4Mg-o"
      },
      "source": [
        "Given a `list` of intervals where intervals[i] = [starti, endi], merge all overlapping intervals, and return an array of the non-overlapping intervals that cover all the intervals in the input.\n",
        "\n",
        "[Origin task on LeetCode](https://leetcode.com/problems/merge-intervals/)"
      ]
    },
    {
      "cell_type": "markdown",
      "metadata": {
        "id": "XNl-kKbENwpz"
      },
      "source": [
        "**Example 1:**\n",
        "\n",
        "**Input:** `intervals = [[1,3],[2,6],[8,10],[15,18]]`\n",
        "\n",
        "**Output:** `[[1,6],[8,10],[15,18]]`\n",
        "\n",
        "**Explanation:** Since intervals `[1,3]` and `[2,6]` overlaps, merge them into `[1,6]`.\n",
        "\n",
        "\n",
        "\n",
        "**Example 2:**\n",
        "\n",
        "**Input:** `intervals = [[1,4],[4,5]]`\n",
        "\n",
        "**Output:** `[[1,5]]`\n",
        "\n",
        "**Explanation:** Intervals `[1,4]` and `[4,5]` are considered overlapping."
      ]
    },
    {
      "cell_type": "code",
      "metadata": {
        "id": "mbb6ODeZMgOI",
        "colab": {
          "base_uri": "https://localhost:8080/"
        },
        "outputId": "03810587-cea0-4128-9ac9-8565971c637f"
      },
      "source": [
        "class Solution:\n",
        "           \n",
        "    def merge(self, intervals):\n",
        "        \n",
        "        def unique(self, obj: iter):\n",
        "            args = []\n",
        "            for a in obj:\n",
        "                if a not in args:\n",
        "                    args.append(a)\n",
        "                    yield a\n",
        "               \n",
        "        \n",
        "        result = []\n",
        "        \n",
        "        # удаление дубликатов из списка\n",
        "        \n",
        "        intervals = unique (self,intervals)\n",
        "        \n",
        "        # сортировка по первому значению starti \n",
        "            \n",
        "        intervals = sorted(intervals, key=lambda x: x[0], reverse=False)\n",
        "        \n",
        "        # выход при единственном значении \n",
        "        if len(intervals) ==1:\n",
        "            result.append(intervals[0])\n",
        "            return result\n",
        "                       \n",
        "        slider = 1                      # cчетчик интервалов\n",
        "        end_time = intervals[0][1]      # первый интервал - окончание\n",
        "        start_time = intervals[0][0]    # первый интервал - начало\n",
        "        \n",
        "        result = []\n",
        "        \n",
        "        while slider < len(intervals):\n",
        "            next_start_time = intervals[slider][0] # следующий интервал \n",
        "            next_end_time = intervals[slider][1]\n",
        "            \n",
        "            # нахождение пересечения\n",
        "            if next_start_time <= end_time:\n",
        "                end_time = max(end_time, next_end_time)\n",
        "            else:\n",
        "                result.append([start_time, end_time])\n",
        "                start_time = next_start_time\n",
        "                end_time = next_end_time\n",
        "                \n",
        "            slider += 1\n",
        "            \n",
        "        result.append([start_time, end_time])  \n",
        "        \n",
        "           \n",
        "        return result\n",
        "\n",
        "intervals = [[1,3],[2,6],[8,10],[15,18]]\n",
        "obj = Solution()\n",
        "result = obj.merge(intervals)\n",
        "print ('Example 1', 'Input: intervals',intervals, 'Output:',result)    \n",
        "intervals = [[1,4],[4,5]]\n",
        "obj = Solution()\n",
        "result = obj.merge(intervals)\n",
        "print ('Example 2', 'Input: intervals',intervals, 'Output:',result)   "
      ],
      "execution_count": 4,
      "outputs": [
        {
          "output_type": "stream",
          "name": "stdout",
          "text": [
            "Example 1 Input: intervals [[1, 3], [2, 6], [8, 10], [15, 18]] Output: [[1, 6], [8, 10], [15, 18]]\n",
            "Example 2 Input: intervals [[1, 4], [4, 5]] Output: [[1, 5]]\n"
          ]
        }
      ]
    },
    {
      "cell_type": "markdown",
      "metadata": {
        "id": "sY1XX5rfHWY-"
      },
      "source": [
        "# **3. Group Anagrams**"
      ]
    },
    {
      "cell_type": "markdown",
      "metadata": {
        "id": "QI-LI5fbHhNX"
      },
      "source": [
        "Given a `list` of strings strs, group the anagrams together. You can return the answer in any order.\n",
        "\n",
        "An Anagram is a word or phrase formed by rearranging the letters of a different word or phrase, typically using all the original letters exactly once.\n",
        "\n",
        "\n",
        "[Origin task on LeetCode](https://leetcode.com/problems/group-anagrams/)"
      ]
    },
    {
      "cell_type": "markdown",
      "metadata": {
        "id": "_KnCOcMRH0Gv"
      },
      "source": [
        "**Example 1:**\n",
        "\n",
        "**Input:** `strs = [\"eat\",\"tea\",\"tan\",\"ate\",\"nat\",\"bat\"]`\n",
        "\n",
        "**Output:** `[[\"bat\"],[\"nat\",\"tan\"],[\"ate\",\"eat\",\"tea\"]]`\n",
        "\n",
        "\n",
        "**Example 2:**\n",
        "\n",
        "**Input:** `[\"\"]`\n",
        "\n",
        "**Output:** `[[\"\"]]`\n",
        "\n",
        "\n",
        "**Example 3:**\n",
        "\n",
        "**Input:** `[\"a\"]`\n",
        "\n",
        "**Output:** `[[\"a\"]]`\n",
        "\n"
      ]
    },
    {
      "cell_type": "code",
      "metadata": {
        "id": "4Sdohw_0HgaD",
        "colab": {
          "base_uri": "https://localhost:8080/"
        },
        "outputId": "15f9d095-86e9-469b-f001-fa136910a6da"
      },
      "source": [
        "class Solution:\n",
        "    def groupAnagrams(self, strs ):\n",
        "        \n",
        "        dict_ = {} # определение словаря для хранения значений { 'массив символов': значение } \n",
        "        for string in strs:\n",
        "            \n",
        "            key = tuple(sorted(list(string))) # ключ - сортированный кортеж по значению  \n",
        "            \n",
        "            if key not in dict_.keys(): # если нет ключа в словаре   \n",
        "                dict_[key] = [string] # создание записи в словаре\n",
        "     \n",
        "                \n",
        "            else:\n",
        "                dict_[key].append(string) # добавление к значению строки \n",
        "      \n",
        "        return list(dict_.values()) # возврат массива значений\n",
        "  \n",
        "strs = [\"eat\",\"tea\",\"tan\",\"ate\",\"nat\",\"bat\"]\n",
        "obj = Solution()\n",
        "result = obj.groupAnagrams(strs)\n",
        "print ('Example 1', 'Input: strs',strs, 'Output:',result)    \n",
        "strs = [\"a\"]\n",
        "obj = Solution()\n",
        "result = obj.groupAnagrams(strs)\n",
        "print ('Example 2', 'Input: strs',strs, 'Output:',result) "
      ],
      "execution_count": 9,
      "outputs": [
        {
          "output_type": "stream",
          "name": "stdout",
          "text": [
            "Example 1 Input: strs ['eat', 'tea', 'tan', 'ate', 'nat', 'bat'] Output: [['eat', 'tea', 'ate'], ['tan', 'nat'], ['bat']]\n",
            "Example 2 Input: strs ['a'] Output: [['a']]\n"
          ]
        }
      ]
    }
  ]
}