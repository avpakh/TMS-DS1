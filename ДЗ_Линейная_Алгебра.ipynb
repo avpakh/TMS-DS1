{
  "nbformat": 4,
  "nbformat_minor": 0,
  "metadata": {
    "colab": {
      "name": "ДЗ Линейная Алгебра.ipynb",
      "provenance": [],
      "collapsed_sections": [],
      "authorship_tag": "ABX9TyOqy5MGwTIh+aJ9kq9U506F",
      "include_colab_link": true
    },
    "kernelspec": {
      "name": "python3",
      "display_name": "Python 3"
    },
    "language_info": {
      "name": "python"
    }
  },
  "cells": [
    {
      "cell_type": "markdown",
      "metadata": {
        "id": "view-in-github",
        "colab_type": "text"
      },
      "source": [
        "<a href=\"https://colab.research.google.com/github/avpakh/TMS-DS1/blob/main/%D0%94%D0%97_%D0%9B%D0%B8%D0%BD%D0%B5%D0%B9%D0%BD%D0%B0%D1%8F_%D0%90%D0%BB%D0%B3%D0%B5%D0%B1%D1%80%D0%B0.ipynb\" target=\"_parent\"><img src=\"https://colab.research.google.com/assets/colab-badge.svg\" alt=\"Open In Colab\"/></a>"
      ]
    },
    {
      "cell_type": "code",
      "execution_count": 92,
      "metadata": {
        "id": "eu_MVf4-Zh5L"
      },
      "outputs": [],
      "source": [
        "import numpy as np\n",
        "import numpy.linalg as LA"
      ]
    },
    {
      "cell_type": "markdown",
      "source": [
        "1. Какой ранг матрицы ?\n"
      ],
      "metadata": {
        "id": "KlRvENVHZqlg"
      }
    },
    {
      "cell_type": "code",
      "source": [
        "A = np.array([[1,4,5],[-5,8,9],[-12,8,8]])\n",
        "\n",
        "rank_A = LA.matrix_rank(A)\n",
        "\n",
        "print ('Ранг матрицы = ', rank_A)\n"
      ],
      "metadata": {
        "colab": {
          "base_uri": "https://localhost:8080/"
        },
        "id": "3RBVEEd3Zrfe",
        "outputId": "3b15543f-4b2c-4faf-9bfd-055005135e32"
      },
      "execution_count": null,
      "outputs": [
        {
          "output_type": "stream",
          "name": "stdout",
          "text": [
            "Ранг матрицы =  2\n"
          ]
        }
      ]
    },
    {
      "cell_type": "markdown",
      "source": [
        "2.  Какой ранг матрицы ?"
      ],
      "metadata": {
        "id": "ivaDQjQybTHd"
      }
    },
    {
      "cell_type": "code",
      "source": [
        "A = np.array([[3,-1,1,9],[-3,4,1,1],[6,5,2,8],[1,1,1,1]])\n",
        "\n",
        "rank_A = LA.matrix_rank(A)\n",
        "\n",
        "print ('Ранг матрицы = ', rank_A)"
      ],
      "metadata": {
        "colab": {
          "base_uri": "https://localhost:8080/"
        },
        "id": "1eUmccOsbbbD",
        "outputId": "f3a9a680-a98f-4f4b-efe3-fb5d570abb8e"
      },
      "execution_count": null,
      "outputs": [
        {
          "output_type": "stream",
          "name": "stdout",
          "text": [
            "Ранг матрицы =  4\n"
          ]
        }
      ]
    },
    {
      "cell_type": "markdown",
      "source": [
        "3. Сколько векторов в базиcе решений ?\n",
        "   \n",
        "   Ax = 0 \n",
        "   \n",
        "   Решение:\n",
        "   1. Привести матрицу A к эшелонной форме [EF]\n",
        "   2. Решить уравнение [EF][x1,x2,x3,x4,x5] = [0,0] \n",
        "   3. Найти кол-во векторов в решении.\n",
        "\n",
        "\n"
      ],
      "metadata": {
        "id": "5z0XYLlccRzi"
      }
    },
    {
      "cell_type": "code",
      "source": [
        "from sympy import *\n",
        "m = Matrix( [[4,5,7,-3,1],[11,8,-4,2,0]])\n",
        "\n",
        "M_rref = m.rref()\n",
        "print(\"Представление матрицы в эшелонной форме : {}\".format(M_rref[0]))\n",
        "\n",
        "t = M_rref[0]\n",
        "# преобразование в \n",
        "A_= np.array(t).astype(np.float64)\n",
        "\n",
        "NoC = m.shape[1]\n",
        "# Rank of A\n",
        "rank = m.rank()\n",
        "  \n",
        "# Nullity of the Matrix\n",
        "nullity = NoC - rank\n",
        "  \n",
        "print(\"Ответ - Количество (размерность) нулевого пространства A  - есть количество векторов : \", nullity)\n",
        "\n",
        "\n",
        "\n"
      ],
      "metadata": {
        "colab": {
          "base_uri": "https://localhost:8080/"
        },
        "id": "1nxioX5fje6n",
        "outputId": "29acd1da-22ca-4364-9be3-1dee395c9f9c"
      },
      "execution_count": null,
      "outputs": [
        {
          "output_type": "stream",
          "name": "stdout",
          "text": [
            "Представление матрицы в эшелонной форме : Matrix([[1, 0, -76/23, 34/23, -8/23], [0, 1, 93/23, -41/23, 11/23]])\n",
            "Ответ - Количество (размерность) нулевого пространства A  - есть количество векторов :  3\n"
          ]
        }
      ]
    },
    {
      "cell_type": "markdown",
      "source": [
        "Сколько векторов в базиcе решений ?"
      ],
      "metadata": {
        "id": "NEkYoSf-QGbS"
      }
    },
    {
      "cell_type": "code",
      "source": [
        "from sympy import *\n",
        "m = Matrix( [[0,2,7,-1],[-1,2,5,5],[-4,13,0,6]])\n",
        "\n",
        "M_rref = m.rref()\n",
        "print(\"Представление матрицы в эшелонной форме : {}\".format(M_rref[0]))\n",
        "\n",
        "t = M_rref[0]\n",
        "# преобразование в \n",
        "A_= np.array(t).astype(np.float64)\n",
        "\n",
        "NoC = m.shape[1]\n",
        "\n",
        "# Rank of A\n",
        "rank = m.rank()\n",
        "  \n",
        "# Nullity of the Matrix\n",
        "nullity = NoC - rank\n",
        "  \n",
        "print(\"Ответ - Количество (размерность) нулевого пространства A  - есть количество векторов : \", nullity)\n"
      ],
      "metadata": {
        "colab": {
          "base_uri": "https://localhost:8080/"
        },
        "id": "pEI0-v3mQKgX",
        "outputId": "a6e19534-9d48-4fed-c86d-c4ce647c04b7"
      },
      "execution_count": null,
      "outputs": [
        {
          "output_type": "stream",
          "name": "stdout",
          "text": [
            "Представление матрицы в эшелонной форме : Matrix([[1, 0, 0, -496/75], [0, 1, 0, -118/75], [0, 0, 1, 23/75]])\n",
            "Ответ - Количество (размерность) нулевого пространства A  - есть количество векторов :  1\n"
          ]
        }
      ]
    },
    {
      "cell_type": "markdown",
      "source": [
        "5. Имеет ли эта система решение ? Использовать теорему Кронекера-Капелли\n",
        "\n",
        "\n"
      ],
      "metadata": {
        "id": "0cw3eODkQ0Va"
      }
    },
    {
      "cell_type": "code",
      "source": [
        "# основная матрица (A)\n",
        "\n",
        "A = np.array([[4,1,-8,5],[-3,1,4,7],[1,2,-4,12],[1,1,1,1]])\n",
        "\n",
        "rank_A = LA.matrix_rank(A)\n",
        "\n",
        "print ('Ранг основной матрицы', rank_A)\n",
        "\n",
        "# раcширенная матрица (A|B)\n",
        "\n",
        "A_B = np.array([[4,1,-8,5,2],[-3,1,4,7,1],[1,2,-4,12,1],[1,1,1,1,2]])\n",
        "\n",
        "rank_AB = LA.matrix_rank(A_B)\n",
        "\n",
        "print ('Ранг расширенной матрицы', rank_AB)\n",
        "\n",
        "if rank_A == rank_AB:\n",
        "  print ('Система уравнений разрешима')\n",
        "else:\n",
        "  print ('Система уравнений не имеет решения')\n",
        "\n",
        "\n"
      ],
      "metadata": {
        "colab": {
          "base_uri": "https://localhost:8080/"
        },
        "id": "l7oqddtqRB9Z",
        "outputId": "e4d09636-6a75-4e9e-e076-9aee839d7ca0"
      },
      "execution_count": null,
      "outputs": [
        {
          "output_type": "stream",
          "name": "stdout",
          "text": [
            "Ранг основной матрицы 3\n",
            "Ранг расширенной матрицы 4\n",
            "Система уравнений не имеет решения\n"
          ]
        }
      ]
    },
    {
      "cell_type": "markdown",
      "source": [
        "6. Найти длину вектора в Эвклидовом пространстве\n"
      ],
      "metadata": {
        "id": "2I7e6dqPXKry"
      }
    },
    {
      "cell_type": "code",
      "source": [
        "AB = np.array([1,-7,3])\n",
        "\n",
        "len_AB = np.linalg.norm(AB)\n",
        "\n",
        "print ('Длина вектора - ', round(len_AB,4))"
      ],
      "metadata": {
        "colab": {
          "base_uri": "https://localhost:8080/"
        },
        "id": "Dp3JIL6vKJ8P",
        "outputId": "709f3824-e25b-41a1-95ad-48658e94ace8"
      },
      "execution_count": null,
      "outputs": [
        {
          "output_type": "stream",
          "name": "stdout",
          "text": [
            "Длина вектора -  7.6811\n"
          ]
        }
      ]
    },
    {
      "cell_type": "markdown",
      "source": [
        "7. Есть ли A решением системы линейных уравнений ?\n",
        "\n",
        "  Решение  1. Найти ранг СЛАУ и определить размерность векторного пространства (число векторов  в любой фундаментальной системе решений для Ax=0 равно n-r, r- ранг A)\n",
        "            \n"
      ],
      "metadata": {
        "id": "SDJ4Q7puN0ay"
      }
    },
    {
      "cell_type": "code",
      "source": [
        "A = np.array([[-10,13,12,0],[3,-3,0,3],[-17,23,24,3]])\n",
        "\n",
        "M = np.array([[1,-2,3,-3],[4,4,-1,0],[5,14,-11,9],[-7,-10,5,-3]])\n",
        "\n",
        "rank_M = LA.matrix_rank(M)\n",
        "\n",
        "print ('Ранг матрицы М', rank_M)\n",
        "\n",
        "NoC = M.shape[1]\n",
        "\n",
        "\n",
        "print ('Число векторов решений', NoC - rank_M)\n",
        "\n",
        "rank_A = LA.matrix_rank(A)\n",
        "\n",
        "print ('Ранг матрицы A', rank_A)\n",
        "\n",
        "if rank_A == (NoC -rank_M):\n",
        "  print ('строки А являются решением СЛАУ')\n",
        "else:\n",
        "  print ('строки А не являются решением СЛАУ')\n"
      ],
      "metadata": {
        "colab": {
          "base_uri": "https://localhost:8080/"
        },
        "id": "b_0ERDK4OGVM",
        "outputId": "5bac8368-6ed0-4a8a-d6c8-22fc5acb8343"
      },
      "execution_count": 4,
      "outputs": [
        {
          "output_type": "stream",
          "name": "stdout",
          "text": [
            "Ранг матрицы М 2\n",
            "Число векторов решений 2\n",
            "Ранг матрицы A 2\n",
            "строки А являются решением СЛАУ\n"
          ]
        }
      ]
    },
    {
      "cell_type": "markdown",
      "source": [
        "8. Какое решение для системы Ax = b где "
      ],
      "metadata": {
        "id": "96NsBCs1wfA2"
      }
    },
    {
      "cell_type": "code",
      "source": [
        "\n",
        "A = np.array([[1,0,3,1],[5,-1,1,0],[3,7,-1,8],[-3,-2,-1,-3]])\n",
        "A_b = np.array([[1,0,3,1,1],[5,-1,1,0,1],[3,7,-1,8,1],[-3,-2,-1,-3,-1]])\n",
        "b =  np.array([1,1,1,-1])\n",
        "\n",
        "rank_A = LA.matrix_rank(A)\n",
        "rank_A_b = LA.matrix_rank(A_b)\n",
        "\n",
        "\n",
        "print ('Ранг матрицы A', rank_A)\n",
        "\n",
        "print ('Ранг матрицы расширенной A_b', rank_A_b)\n",
        "\n",
        "if rank_A == rank_A_b:\n",
        "   print ('Cистема Ax = b  является совместной')\n",
        "\n",
        "det_A = round(np.linalg.det(A), 0)\n",
        "print('Определитель равен:', round(np.linalg.det(A), 0))\n",
        "if det_A == 0:\n",
        "  print ('Определитель матрицы A равен 0. Таким образом, матрицы A - вырожденная, т.е. система имеет бесконечное множество решений.')\n",
        "  \n",
        "\n",
        "\n",
        " \n",
        "\n",
        "\n",
        "\n",
        "\n",
        "\n",
        "\n",
        "\n",
        "\n",
        "\n",
        "\n",
        "\n"
      ],
      "metadata": {
        "colab": {
          "base_uri": "https://localhost:8080/"
        },
        "id": "w6i8BwiIFbus",
        "outputId": "283e7624-075c-403e-a169-8b0deb7ef4a8"
      },
      "execution_count": 33,
      "outputs": [
        {
          "output_type": "stream",
          "name": "stdout",
          "text": [
            "Ранг матрицы A 3\n",
            "Ранг матрицы расширенной A_b 3\n",
            "Cистема Ax = b  является совместной\n",
            "Определитель равен: 0.0\n",
            "Определитель матрицы A равен 0. Таким образом, матрицы A - вырожденная, т.е. система имеет бесконечное множество решений.\n"
          ]
        }
      ]
    },
    {
      "cell_type": "markdown",
      "source": [
        "9. Какая размерность решения ?\n",
        "\n"
      ],
      "metadata": {
        "id": "NVeqI8mCcblq"
      }
    },
    {
      "cell_type": "code",
      "source": [
        "from sympy import *\n",
        "m = Matrix( [[1,-3,1,-2,9],[0,1,-3,-5,4],[-2,7,-5,-1,-14],[1,-5,7,8,1]])\n",
        "\n",
        "M_rref = m.rref()\n",
        "print(\"Представление матрицы в эшелонной форме : {}\".format(M_rref[0]))\n",
        "\n",
        "t = M_rref[0]\n",
        "# преобразование в \n",
        "A_= np.array(t).astype(np.float64)\n",
        "\n",
        "NoC = m.shape[1]\n",
        "\n",
        "# Rank of A\n",
        "rank = m.rank()\n",
        "  \n",
        "# Nullity of the Matrix\n",
        "nullity = NoC - rank\n",
        "  \n",
        "print(\"Ответ - Количество (размерность)  - есть количество векторов : \", nullity)"
      ],
      "metadata": {
        "colab": {
          "base_uri": "https://localhost:8080/"
        },
        "id": "mRyDBJ5pcm18",
        "outputId": "ef87c817-a81b-432b-8539-169f66b9d8b1"
      },
      "execution_count": 37,
      "outputs": [
        {
          "output_type": "stream",
          "name": "stdout",
          "text": [
            "Представление матрицы в эшелонной форме : Matrix([[1, 0, -8, -17, 21], [0, 1, -3, -5, 4], [0, 0, 0, 0, 0], [0, 0, 0, 0, 0]])\n",
            "Ответ - Количество (размерность)  - есть количество векторов :  3\n"
          ]
        }
      ]
    },
    {
      "cell_type": "code",
      "source": [
        "10. Какая декомпозиция матрицы \n",
        "    A = QR\n"
      ],
      "metadata": {
        "id": "Yf358MGfeimF"
      },
      "execution_count": null,
      "outputs": []
    },
    {
      "cell_type": "code",
      "source": [
        "\n",
        "\n",
        "\n",
        "A = np.array([[1,1,1],[2,2,2],[3,3,3],[1,2,3]])\n",
        "\n",
        "Q,R = LA.qr(A)\n",
        "\n",
        "print ('ортогональная матрица',Q)\n",
        "print ('верхняя треугольная матрица',R)\n",
        "\n",
        "print ('Максимальный ранг декомпозиции матрицы -', max(LA.matrix_rank(Q),LA.matrix_rank(R)))\n",
        "\n",
        "\n",
        "\n",
        "\n",
        "\n"
      ],
      "metadata": {
        "colab": {
          "base_uri": "https://localhost:8080/"
        },
        "id": "G-Kbdapqgedi",
        "outputId": "1e9bfd0c-b2b6-4063-b42e-e1cef84fd468"
      },
      "execution_count": 54,
      "outputs": [
        {
          "output_type": "stream",
          "name": "stdout",
          "text": [
            "ортогональная матрица [[-2.58198890e-01 -6.90065559e-02  9.46091996e-01]\n",
            " [-5.16397779e-01 -1.38013112e-01  1.24424396e-02]\n",
            " [-7.74596669e-01 -2.07019668e-01 -3.23658958e-01]\n",
            " [-2.58198890e-01  9.66091783e-01 -1.23194190e-15]]\n",
            "верхняя треугольная матрица [[-3.87298335e+00 -4.13118224e+00 -4.38938113e+00]\n",
            " [ 0.00000000e+00  9.66091783e-01  1.93218357e+00]\n",
            " [ 0.00000000e+00  0.00000000e+00 -1.06261527e-15]]\n",
            "Максимальный ранг декомпозиции матрицы 3\n"
          ]
        }
      ]
    },
    {
      "cell_type": "markdown",
      "source": [
        "11. Имеет ли эта система решение с использованием Кронекера-Капелли\n",
        "\n",
        "Система линейных алгебраических уравнений совместна тогда и только тогда, когда ранг её основной матрицы равен рангу её расширенной матрицы."
      ],
      "metadata": {
        "id": "mKNyM0DJq9b2"
      }
    },
    {
      "cell_type": "code",
      "source": [
        "A = np.array([[-8,-1,5],[-5,2,7],[0,3,8]])\n",
        "A_b =  np.array([[1,1,1],[2,2,2],[3,3,3],[1,2,3]])\n",
        "\n",
        "rank_A = LA.matrix_rank(A)\n",
        "rank_Ab = LA.matrix_rank(A_b)\n",
        "\n",
        "print ('Ранг матрицы A', rank_A)\n",
        "print ('Ранг расширенной матрицы Ab', rank_Ab)\n",
        "\n",
        "if rank_A == rank_Ab:\n",
        "  print ('Система уравнений разрешима')\n",
        "else:\n",
        "  print ('Система уравнений не имеет решения')"
      ],
      "metadata": {
        "colab": {
          "base_uri": "https://localhost:8080/"
        },
        "id": "k8rNyCgBs5Oz",
        "outputId": "10837b21-ca95-4ef6-865a-aa2066b374e0"
      },
      "execution_count": 56,
      "outputs": [
        {
          "output_type": "stream",
          "name": "stdout",
          "text": [
            "Ранг матрицы A 3\n",
            "Ранг расширенной матрицы Ab 2\n",
            "Система уравнений не имеет решения\n"
          ]
        }
      ]
    },
    {
      "cell_type": "code",
      "source": [
        ""
      ],
      "metadata": {
        "id": "nKPmIADKCfqP"
      },
      "execution_count": null,
      "outputs": []
    },
    {
      "cell_type": "markdown",
      "source": [
        "12. Найти угол между векторами  x и у\n",
        "\n",
        "\n",
        "\n"
      ],
      "metadata": {
        "id": "oqfv5-0GtvLS"
      }
    },
    {
      "cell_type": "code",
      "source": [
        "vector1 = [1,-3,0]\n",
        "vector2 = [0,1,-7]\n",
        "\n",
        "unit_vector1 = vector1 / np.linalg.norm(vector1)\n",
        "unit_vector2 = vector2 / np.linalg.norm(vector2)\n",
        "\n",
        "dot_product = np.dot(unit_vector1, unit_vector2)\n",
        "\n",
        "angle = np.arccos(dot_product) #angle in radian\n",
        "\n",
        "print ('Угол между векторами (numpy) :', np.degrees(angle))\n",
        "\n",
        "import math\n",
        "def dotproduct(v1, v2):\n",
        "  return sum((a*b) for a, b in zip(v1, v2))\n",
        "\n",
        "def length(v):\n",
        "  return math.sqrt(dotproduct(v, v))\n",
        "\n",
        "def _angle(v1, v2):\n",
        "  return math.acos(dotproduct(v1, v2) / (length(v1) * length(v2)))\n",
        "\n",
        "print ('Угол между векторами: (math): ', np.degrees(_angle(vector1,vector2)))\n",
        "\n"
      ],
      "metadata": {
        "colab": {
          "base_uri": "https://localhost:8080/"
        },
        "id": "qRg7V6r_yfWd",
        "outputId": "f36ba4f6-24ad-476f-e6f5-c5cff5f3ab24"
      },
      "execution_count": 70,
      "outputs": [
        {
          "output_type": "stream",
          "name": "stdout",
          "text": [
            "Угол между векторами (numpy) : 97.71028539649512\n",
            "Угол между векторами: (math) 97.71028539649512\n"
          ]
        }
      ]
    },
    {
      "cell_type": "markdown",
      "source": [
        "13. Найти скалярное произведение между векторам x и у "
      ],
      "metadata": {
        "id": "YhkgN-dp2Oi2"
      }
    },
    {
      "cell_type": "code",
      "source": [
        "vector1 = [-1,1,2,3]\n",
        "vector2 = [0,1,-5,16]\n",
        "\n",
        "dot_product = np.dot(vector1, vector2)\n",
        "\n",
        "print ('Скалярное произведение векторов:',dot_product)"
      ],
      "metadata": {
        "colab": {
          "base_uri": "https://localhost:8080/"
        },
        "id": "9ji3b46f25_D",
        "outputId": "4a724e12-48a0-4c56-cc9f-613da892e3cc"
      },
      "execution_count": 73,
      "outputs": [
        {
          "output_type": "stream",
          "name": "stdout",
          "text": [
            "39\n"
          ]
        }
      ]
    },
    {
      "cell_type": "markdown",
      "source": [
        "14. Найти скалярное произведение между векторам x и у"
      ],
      "metadata": {
        "id": "PaR5enBr3ZHz"
      }
    },
    {
      "cell_type": "code",
      "source": [
        "vector1 = [9,-2,4]\n",
        "vector2 = [2,-5,2]\n",
        "\n",
        "dot_product = np.dot(vector1, vector2)\n",
        "\n",
        "\n",
        "print ('Скалярное произведение векторов:',dot_product)"
      ],
      "metadata": {
        "colab": {
          "base_uri": "https://localhost:8080/"
        },
        "id": "snyhksvg3dvm",
        "outputId": "ff446f32-c657-4bc3-863d-7159ac852947"
      },
      "execution_count": 74,
      "outputs": [
        {
          "output_type": "stream",
          "name": "stdout",
          "text": [
            "Скалярное произведение векторов: 36\n"
          ]
        }
      ]
    },
    {
      "cell_type": "code",
      "source": [
        ""
      ],
      "metadata": {
        "id": "z74rl-_jCKRV"
      },
      "execution_count": null,
      "outputs": []
    },
    {
      "cell_type": "markdown",
      "source": [
        "15. Записать вектор X в базисе {b1,b2}\n",
        "\n",
        "   "
      ],
      "metadata": {
        "id": "9fwuzaVzCPvh"
      }
    },
    {
      "cell_type": "markdown",
      "source": [
        "\n"
      ],
      "metadata": {
        "id": "diyLCMPhCKbr"
      }
    },
    {
      "cell_type": "code",
      "source": [
        "a = np.array([[1,-2],[2,3]])\n",
        "b = np.array([[-1,1],[2,1]])\n",
        "\n",
        "x = np.array([3,1])\n",
        "\n",
        "det_a = LA.det(a)\n",
        "det_b = LA.det(b)\n",
        "\n",
        "print ('Проверка на детерминант',det_a,det_b)\n",
        "\n",
        "# Найти обратную матрицу перехода от базиса а к базису b   P = inv(a)b\n",
        "\n",
        "P = np.matmul(LA.inv(a),b)\n",
        "\n",
        "# Найти координаты x в базисе b    Xb = inv(P)Xa\n",
        "\n",
        "x_ = np.matmul(LA.inv(P),x)\n",
        "\n",
        "print ('Координаты вектора X в базисе b: ',x_)\n",
        "\n"
      ],
      "metadata": {
        "colab": {
          "base_uri": "https://localhost:8080/"
        },
        "id": "T9iryFJDHv1u",
        "outputId": "3f495944-e216-4873-ebcb-e552a3ffdc23"
      },
      "execution_count": 86,
      "outputs": [
        {
          "output_type": "stream",
          "name": "stdout",
          "text": [
            "Проверка на детерминант 7.000000000000001 -2.9999999999999996\n",
            "Координаты вектора X в базисе b:  [2.66666667 3.66666667]\n"
          ]
        }
      ]
    },
    {
      "cell_type": "markdown",
      "source": [
        "16. Найти x в базисе E"
      ],
      "metadata": {
        "id": "CGR5IGEmLrKZ"
      }
    },
    {
      "cell_type": "code",
      "source": [
        "e = np.array([[1,0,0],[0,1,0],[0,0,1]])  # стандартный базис\n",
        "e_ = np.array([[1,0,1],[-1,-1,0],[-1,0,3]])\n",
        "\n",
        "x = np.array([5,-7,8])\n",
        "\n",
        "det_a = LA.det(e)\n",
        "det_b = LA.det(e_)\n",
        "\n",
        "print ('Проверка на детерминант',det_a,det_b)\n",
        "\n",
        "# Найти обратную матрицу перехода от базиса а к базису b   P = inv(a)b\n",
        "\n",
        "P = np.matmul(LA.inv(e),e_)\n",
        "\n",
        "# Найти координаты x в базисе b    Xb = inv(P)Xa\n",
        "\n",
        "x_ = np.matmul(LA.inv(P),x)\n",
        "\n",
        "print ('Координаты вектора x в базисе e_: ',x_)\n"
      ],
      "metadata": {
        "colab": {
          "base_uri": "https://localhost:8080/"
        },
        "id": "HxfIAQGeMINp",
        "outputId": "662ce8e0-aa3f-416a-a341-c722081009b6"
      },
      "execution_count": 90,
      "outputs": [
        {
          "output_type": "stream",
          "name": "stdout",
          "text": [
            "Проверка на детерминант 1.0 -4.0\n",
            "Координаты вектора X в базисе b:  [1.75 5.25 3.25]\n"
          ]
        }
      ]
    },
    {
      "cell_type": "markdown",
      "source": [
        "17. Найдите S^2, где S длина вектора в Эвклидовом пространстве"
      ],
      "metadata": {
        "id": "iTOcVgpGOS1b"
      }
    },
    {
      "cell_type": "code",
      "source": [
        "point_1 = np.array([0,0,0,0])\n",
        "point_2 = np.array([2,-1,4,-1])\n",
        "\n",
        "distance = np.sqrt(np.dot(point_1-point_2, point_1-point_2))\n",
        "print(distance**2)"
      ],
      "metadata": {
        "colab": {
          "base_uri": "https://localhost:8080/"
        },
        "id": "VPZShmMcPOh2",
        "outputId": "32cc987c-99e8-4a9c-b3e0-897ba0d34ee1"
      },
      "execution_count": 97,
      "outputs": [
        {
          "output_type": "stream",
          "name": "stdout",
          "text": [
            "22.0\n"
          ]
        }
      ]
    },
    {
      "cell_type": "code",
      "source": [
        ""
      ],
      "metadata": {
        "id": "W2wl-hmYP38E"
      },
      "execution_count": null,
      "outputs": []
    }
  ]
}