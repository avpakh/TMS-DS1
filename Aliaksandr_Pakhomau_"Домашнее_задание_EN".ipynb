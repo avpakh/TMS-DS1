{
  "nbformat": 4,
  "nbformat_minor": 0,
  "metadata": {
    "colab": {
      "name": "Aliaksandr Pakhomau \"Домашнее задание EN\"",
      "provenance": [],
      "collapsed_sections": [],
      "include_colab_link": true
    },
    "kernelspec": {
      "name": "python3",
      "display_name": "Python 3"
    },
    "language_info": {
      "name": "python"
    }
  },
  "cells": [
    {
      "cell_type": "markdown",
      "metadata": {
        "id": "view-in-github",
        "colab_type": "text"
      },
      "source": [
        "<a href=\"https://colab.research.google.com/github/avpakh/TMS-DS1/blob/main/Aliaksandr_Pakhomau_%22%D0%94%D0%BE%D0%BC%D0%B0%D1%88%D0%BD%D0%B5%D0%B5_%D0%B7%D0%B0%D0%B4%D0%B0%D0%BD%D0%B8%D0%B5_EN%22.ipynb\" target=\"_parent\"><img src=\"https://colab.research.google.com/assets/colab-badge.svg\" alt=\"Open In Colab\"/></a>"
      ]
    },
    {
      "cell_type": "markdown",
      "metadata": {
        "id": "v3EGyn9xV9hy"
      },
      "source": [
        "# **1. Two Sum**"
      ]
    },
    {
      "cell_type": "markdown",
      "metadata": {
        "id": "9ATDMNvqV2kL"
      },
      "source": [
        "Given a **list** of integers `nums` and an integer `target`, return indices of the two numbers such that they add up to `target`.\n",
        "\n",
        "You may assume that each input would have exactly one solution, and you may not use the same element twice.\n",
        "\n",
        "You can return the answer in any order.\n",
        "\n",
        "[Origin task on LeetCode](https://leetcode.com/problems/two-sum/)"
      ]
    },
    {
      "cell_type": "markdown",
      "metadata": {
        "id": "BSiEhRmyoYpQ"
      },
      "source": [
        "**Example 1:**\n",
        "\n",
        "**Input:**` nums = [2,7,11,15]`, `target = 9`\n",
        "**Output:** `[0,1]`\n",
        "**Output:** Because `nums[0] + nums[1] == 9`, we return `[0, 1]`.\n",
        "\n",
        "**Example 2:**\n",
        "\n",
        "**Input:** `nums = [3,2,4]`, `target = 6`\n",
        "**Output:** `[1,2]`\n",
        "\n",
        "**Example 3:**\n",
        "\n",
        "**Input:** `nums = [3,3]`, `target = 6`\n",
        "**Output:** `[0,1]`"
      ]
    },
    {
      "cell_type": "markdown",
      "metadata": {
        "id": "IXCqrd_Az0DV"
      },
      "source": [
        "Constraints:\n",
        "\n",
        "`2 <= nums.length <= 104`\n",
        "\n",
        "`-109 <= nums[i] <= 109`\n",
        "\n",
        "`-109 <= target <= 109`\n",
        "\n",
        "Only one valid answer exists."
      ]
    },
    {
      "cell_type": "code",
      "metadata": {
        "id": "irFnoXPtVSDg",
        "colab": {
          "base_uri": "https://localhost:8080/"
        },
        "outputId": "63b6fa62-a7cf-451c-b4d4-34e4a7f7e4e3"
      },
      "source": [
        "class Solution:\n",
        "    def twoSum(self, nums, target):\n",
        "                 \n",
        "        for idx_1 in range(0,len(nums)-1,1):\n",
        "            for idx_2 in range(idx_1+1,len(nums),1):\n",
        "                sum = nums[idx_1] +nums[idx_2] \n",
        "                if sum == target:\n",
        "                    t = [idx_1,idx_2]\n",
        "               \n",
        "                    return t \n",
        "\n",
        "obj = Solution()\n",
        "nums = [2,7,11,15]\n",
        "target = 9\n",
        "result = obj.twoSum(nums,target)\n",
        "print ('Example 1','Input: nums = ',nums, ' target = ',target, ' Output: ',result)\n",
        "\n",
        "nums = [2,6,4,4,1,10,15]\n",
        "target = 11\n",
        "result = obj.twoSum(nums,target)\n",
        "print ('Example 2','Input: nums = ',nums, ' target = ',target, ' Output: ',result)\n",
        "\n",
        "nums = [2,7,8,7,11,15]\n",
        "target = 15\n",
        "result = obj.twoSum(nums,target)\n",
        "print ('Example 3','Input: nums = ',nums, ' target = ',target, ' Output: ',result)\n",
        "\n",
        "\n"
      ],
      "execution_count": null,
      "outputs": [
        {
          "output_type": "stream",
          "name": "stdout",
          "text": [
            "Example 1 Input: nums =  [2, 7, 11, 15]  target =  9  Output:  [0, 1]\n",
            "Example 2 Input: nums =  [2, 6, 4, 4, 1, 10, 15]  target =  11  Output:  [4, 5]\n",
            "Example 3 Input: nums =  [2, 7, 8, 7, 11, 15]  target =  15  Output:  [1, 2]\n"
          ]
        }
      ]
    },
    {
      "cell_type": "markdown",
      "metadata": {
        "id": "YHUyt8iEMTm7"
      },
      "source": [
        "# **2. Contains Duplicate**"
      ]
    },
    {
      "cell_type": "markdown",
      "metadata": {
        "id": "fOMijWY4Mg-o"
      },
      "source": [
        "Given an integer list `nums`, return `true` if any value appears at least twice in the array, and return `false` if every element is distinct.\n",
        "\n",
        "[Origin task on LeetCode](https://leetcode.com/problems/contains-duplicate/)"
      ]
    },
    {
      "cell_type": "markdown",
      "metadata": {
        "id": "XNl-kKbENwpz"
      },
      "source": [
        "**Example 1:**\n",
        "\n",
        "**Input:** `nums = [1,2,3,1]`\n",
        "**Output:** `true`\n",
        "\n",
        "**Example 2:**\n",
        "\n",
        "**Input:** `nums = [1,2,3,4]`\n",
        "**Output:** `false`\n",
        "\n",
        "**Example 3:**\n",
        "\n",
        "**Input:** `nums = [1,1,1,3,3,4,3,2,4,2]`\n",
        "**Output:** `true`"
      ]
    },
    {
      "cell_type": "code",
      "metadata": {
        "id": "mbb6ODeZMgOI",
        "colab": {
          "base_uri": "https://localhost:8080/"
        },
        "outputId": "e5695e7c-426b-4759-ed15-aa2579ae954c"
      },
      "source": [
        "class Solution:\n",
        "    def containsDuplicate(self, nums):\n",
        "        if len(set(nums)) < len(nums):\n",
        "            return True\n",
        "        else:\n",
        "            return False\n",
        "\n",
        "obj = Solution()\n",
        "nums = [1,2,3,1]\n",
        "result = obj.containsDuplicate(nums)\n",
        "print ('Example 1','Input: nums = ',nums, ' Output: ',result)\n",
        "nums = [1,2,3,4]\n",
        "result = obj.containsDuplicate(nums)\n",
        "print ('Example 2','Input: nums = ',nums, ' Output: ',result)\n",
        "nums = [1,1,1,3,3,4,3,2,4,2]\n",
        "result = obj.containsDuplicate(nums)\n",
        "print ('Example 3','Input: nums = ',nums, ' Output: ',result)\n"
      ],
      "execution_count": null,
      "outputs": [
        {
          "output_type": "stream",
          "name": "stdout",
          "text": [
            "Example 1 Input: nums =  [1, 2, 3, 1]  Output:  True\n",
            "Example 2 Input: nums =  [1, 2, 3, 4]  Output:  False\n",
            "Example 3 Input: nums =  [1, 1, 1, 3, 3, 4, 3, 2, 4, 2]  Output:  True\n"
          ]
        }
      ]
    },
    {
      "cell_type": "markdown",
      "metadata": {
        "id": "sY1XX5rfHWY-"
      },
      "source": [
        "# **3. Best Time to Buy and Sell Stock**"
      ]
    },
    {
      "cell_type": "markdown",
      "metadata": {
        "id": "QI-LI5fbHhNX"
      },
      "source": [
        "You are given a `list prices` where `prices[i]` is the price of a given stock on the `i`th day.\n",
        "\n",
        "You want to maximize your profit by choosing a single day to buy one stock and choosing a different day in the future to sell that stock.\n",
        "\n",
        "Return the `maximum profit` you can achieve from this transaction. If you cannot achieve any profit, `return 0`.\n",
        "\n",
        "[Origin task on LeetCode](https://leetcode.com/problems/best-time-to-buy-and-sell-stock/)"
      ]
    },
    {
      "cell_type": "markdown",
      "metadata": {
        "id": "_KnCOcMRH0Gv"
      },
      "source": [
        "**Example 1:**\n",
        "\n",
        "**Input:** `prices = [7,1,5,3,6,4]`\n",
        "**Output:** `5`\n",
        "\n",
        "**Explanation:** Buy on day 2 (price = 1) and sell on day 5 (price = 6), `profit = 6-1 = 5.`\n",
        "Note that buying on day 2 and selling on day 1 is not allowed because you must buy before you sell.\n",
        "\n",
        "**Example 2:**\n",
        "\n",
        "**Input:** `prices = [7,6,4,3,1]`\n",
        "**Output:** `0`\n",
        "\n",
        "**Explanation:** In this case, no transactions are done and the `max profit = 0`."
      ]
    },
    {
      "cell_type": "code",
      "metadata": {
        "id": "4Sdohw_0HgaD",
        "colab": {
          "base_uri": "https://localhost:8080/"
        },
        "outputId": "0aea08a8-d9f4-4d1e-e0cd-40437e501f4a"
      },
      "source": [
        "class Solution:\n",
        "    def maxProfit(self, prices):\n",
        "        \n",
        "        profit = 0\n",
        "        \n",
        "        for b in range(len(prices)):\n",
        "            for s in range(b+1,len(prices),1):\n",
        "                v  = prices[s] - prices[b]\n",
        "                if v>profit:\n",
        "                    profit = v\n",
        "        \n",
        "        return profit\n",
        "\n",
        "obj = Solution()\n",
        "prices = [7,1,5,3,6,4] \n",
        "result = obj.maxProfit(prices)\n",
        "print ('Example 1','Input: prices = ',prices, ' Output: ',result)\n",
        "prices = [7,6,4,3,1]\n",
        "result = obj.maxProfit(prices)\n",
        "print ('Example 2','Input: prices = ',prices, ' Output: ',result)\n",
        "prices = [10000,9999,9998,9942,8741,8740,8739,8738,8737,8736,8735,8734,8733,8732,8731,8730,8729,7000,8728,8727,8726,8725,8724,8723,8722,8721,8720,8719,8718,8717,8716,8715,8714,8713,8712,8711,8710,8709,8708,8707,8706,8705,8704,8703,8702,8701,8700,8699,8698,8697,8696,8695,8694]\n",
        "result = obj.maxProfit(prices)\n",
        "print ('Example 3','Input: prices = ',prices, ' Output: ',result)"
      ],
      "execution_count": null,
      "outputs": [
        {
          "output_type": "stream",
          "name": "stdout",
          "text": [
            "Example 1 Input: prices =  [7, 1, 5, 3, 6, 4]  Output:  5\n",
            "Example 2 Input: prices =  [7, 6, 4, 3, 1]  Output:  0\n",
            "Example 3 Input: prices =  [10000, 9999, 9998, 9942, 8741, 8740, 8739, 8738, 8737, 8736, 8735, 8734, 8733, 8732, 8731, 8730, 8729, 7000, 8728, 8727, 8726, 8725, 8724, 8723, 8722, 8721, 8720, 8719, 8718, 8717, 8716, 8715, 8714, 8713, 8712, 8711, 8710, 8709, 8708, 8707, 8706, 8705, 8704, 8703, 8702, 8701, 8700, 8699, 8698, 8697, 8696, 8695, 8694]  Output:  1728\n"
          ]
        }
      ]
    },
    {
      "cell_type": "markdown",
      "metadata": {
        "id": "0f-3oEAAIVb1"
      },
      "source": [
        "# **4. Valid Anagram**"
      ]
    },
    {
      "cell_type": "markdown",
      "metadata": {
        "id": "MSZP69NEInxS"
      },
      "source": [
        "Given two `strings` `s` and `t`, `return true` if `t` is an anagram of `s`, and `false` otherwise.\n",
        "\n",
        "[Origin task on LeetCode](https://leetcode.com/problems/valid-anagram/)"
      ]
    },
    {
      "cell_type": "markdown",
      "metadata": {
        "id": "7tfSxw4HI5Ws"
      },
      "source": [
        "**Example 1:**\n",
        "\n",
        "**Input:** `s = \"anagram\", t = \"nagaram\"`\n",
        "**Output:** `true`\n",
        "\n",
        "**Example 2:**\n",
        "\n",
        "**Input:** `s = \"rat\", t = \"car\"`\n",
        "**Output:** `false`"
      ]
    },
    {
      "cell_type": "code",
      "metadata": {
        "id": "vSgJnDcbIeKl",
        "colab": {
          "base_uri": "https://localhost:8080/"
        },
        "outputId": "c5317d8d-c115-47ca-96df-8789c675ecac"
      },
      "source": [
        "class Solution:\n",
        "    def isAnagram(self, s, t):\n",
        "\n",
        "        s1 = list(s)\n",
        "        t1 = list(t)\n",
        "        \n",
        "        if len(s1) != len(t1):\n",
        "            return False\n",
        "        \n",
        "        if sorted(s1) == sorted(t1):\n",
        "            return True\n",
        "        else:\n",
        "          return False\n",
        "\n",
        "obj = Solution()\n",
        "s =  \"anagram\"\n",
        "t = \"nagaram\"\n",
        "result = obj.isAnagram(s,t)\n",
        "print ('Example 1','Input: s = ',s, '  t =',t, ' Output: ',result)\n",
        "\n",
        "s =  \"rat\"\n",
        "t = \"cat\"\n",
        "result = obj.isAnagram(s,t)\n",
        "print ('Example 2','Input: s = ',s, '  t =',t, ' Output: ',result)\n",
        "\n"
      ],
      "execution_count": null,
      "outputs": [
        {
          "output_type": "stream",
          "name": "stdout",
          "text": [
            "Example 1 Input: s =  anagram   t = nagaram  Output:  True\n",
            "Example 2 Input: s =  rat   t = cat  Output:  False\n"
          ]
        }
      ]
    },
    {
      "cell_type": "markdown",
      "metadata": {
        "id": "2rhLUaGLJKnT"
      },
      "source": [
        "# **5. Valid Parentheses**"
      ]
    },
    {
      "cell_type": "markdown",
      "metadata": {
        "id": "wwRpbpHQJXkw"
      },
      "source": [
        "Given a `string` s containing just the characters `'(', ')', '{', '}', '['` and  `']'`, determine if the input string is valid.\n",
        "\n",
        "An input string is valid if:\n",
        "\n",
        "\n",
        "\n",
        "1.   Open brackets must be closed by the same type of brackets.\n",
        "2.   Open brackets must be closed in the correct order.\n",
        "\n",
        "\n",
        "[Origin task on LeetCode](https://leetcode.com/problems/valid-parentheses/)\n",
        "\n",
        "\n"
      ]
    },
    {
      "cell_type": "markdown",
      "metadata": {
        "id": "6B-txOY3J6s9"
      },
      "source": [
        "**Example 1:**\n",
        "\n",
        "**Input:** `s = \"()\"`\n",
        "**Output:** `true`\n",
        "\n",
        "**Example 2:**\n",
        "\n",
        "**Input:** `s = \"()[]{}\"`\n",
        "**Output:** `true`\n",
        "\n",
        "**Example 3:**\n",
        "\n",
        "**Input:** `s = \"(]\"`\n",
        "**Output:** `false`\n",
        "\n",
        "**Example 4:**\n",
        "\n",
        "**Input:** `s = \"([)]\"`\n",
        "**Output:** `false`\n",
        "\n",
        "**Example 5:**\n",
        "\n",
        "**Input:** `s = \"{[]}\"`\n",
        "**Output:** true"
      ]
    },
    {
      "cell_type": "code",
      "metadata": {
        "id": "kQd37Gp8Jq82",
        "colab": {
          "base_uri": "https://localhost:8080/"
        },
        "outputId": "f0f1e666-d4c5-4cd9-a846-2781bb32a969"
      },
      "source": [
        "class Solution:\n",
        "    def isValidString(self, s):\n",
        "        \n",
        "        \n",
        "        brackets = {\"(\": \")\", \"{\": \"}\", \"[\": \"]\" } # Ограничители словарь\n",
        "        \n",
        "        stack = [] # использование стека\n",
        "        \n",
        "        for ch in s: # проход по элементам строки\n",
        "            if ch in brackets: # если элементы ограничителей в строке\n",
        "                stack.append(ch) # добавленние в стек\n",
        "            else:\n",
        "                if not stack: # пустой стек \n",
        "                    return False\n",
        "                opening_bracket = stack.pop()  # извлечение из стека ключа - начало ограничителя\n",
        "                if brackets[opening_bracket] != ch:  # если нет замыкания - то выход \n",
        "                    return False\n",
        "                \n",
        "        return len(stack) == 0 # возврат после прохождения всей строки при всех замыканиях - True\n",
        "\n",
        "obj = Solution()\n",
        "s = \"()\"\n",
        "result = obj.isValidString(s)\n",
        "print ('Example 1','Input: s = ',s, ' Output: ',result) \n",
        "s = \"()[]{}\"\n",
        "result = obj.isValidString(s)\n",
        "print ('Example 2','Input: s = ',s, ' Output: ',result)    \n",
        "s = \"(}{{{{{}}}}}}\"\n",
        "result = obj.isValidString(s)\n",
        "print ('Example 3','Input: s = ',s, ' Output: ',result)   \n"
      ],
      "execution_count": null,
      "outputs": [
        {
          "output_type": "stream",
          "name": "stdout",
          "text": [
            "Example 1 Input: s =  ()  Output:  True\n",
            "Example 2 Input: s =  ()[]{}  Output:  True\n",
            "Example 3 Input: s =  (}{{{{{}}}}}}  Output:  False\n"
          ]
        }
      ]
    },
    {
      "cell_type": "markdown",
      "metadata": {
        "id": "ah15KjESLPdL"
      },
      "source": [
        "# **6. Maximum Subarray**"
      ]
    },
    {
      "cell_type": "markdown",
      "metadata": {
        "id": "ANVjJ5_5LjD4"
      },
      "source": [
        "Given an integer `list nums`, find the contiguous `sublist` (containing at least one number) which has the `largest sum` and return its `sum`.\n",
        "\n",
        "A `sublist` is a contiguous part of a `list`.\n",
        "\n",
        "[Origin task on LeetCode](https://leetcode.com/problems/maximum-subarray/)"
      ]
    },
    {
      "cell_type": "markdown",
      "metadata": {
        "id": "M6nvWe9YL9ay"
      },
      "source": [
        "**Example 1:**\n",
        "\n",
        "**Input:** `nums = [-2,1,-3,4,-1,2,1,-5,4]`\n",
        "**Output:** `6`\n",
        "**Explanation:** `[4,-1,2,1]` has the largest `sum = 6`.\n",
        "\n",
        "**Example 2:**\n",
        "\n",
        "**Input:** `nums = [1]`\n",
        "**Output:** `1`\n",
        "\n",
        "**Example 3:**\n",
        "\n",
        "**Input:** `nums = [5,4,-1,7,8]`\n",
        "**Output:** 23"
      ]
    },
    {
      "cell_type": "code",
      "metadata": {
        "id": "6grzbZx5LiOt",
        "colab": {
          "base_uri": "https://localhost:8080/"
        },
        "outputId": "62853c73-a376-4f18-c192-f9f49aa4289a"
      },
      "source": [
        "class Solution:\n",
        "            \n",
        "    def maxSubArray(self, nums):\n",
        "        \n",
        "        def isallpositive (self, nums):\n",
        "            back = True\n",
        "            for k in nums:\n",
        "                if k<0:\n",
        "                    return False\n",
        "            return back\n",
        "    \n",
        "        def isallnegative (self, nums):\n",
        "            back = True\n",
        "            for k in nums:\n",
        "                if k>0:\n",
        "                    return 0\n",
        "        \n",
        "            return max(nums)\n",
        "                        \n",
        "        if len(nums) == 1:    # для одного элемента\n",
        "            return nums[0]\n",
        "        \n",
        "        if isallpositive(self,nums): # для всех положительных элементов\n",
        "            return sum(nums)\n",
        "        \n",
        "        if isallnegative(self,nums) !=0: # для все отрицательных элементов\n",
        "            return isallnegative(self,nums)\n",
        "                \n",
        "        max_sum = 0  \n",
        "        current_sum = 0\n",
        "        for x in nums:\n",
        "            current_sum = max(0, current_sum + x)\n",
        "            max_sum = max(max_sum, current_sum)\n",
        "        \n",
        "        return max_sum\n",
        "\n",
        "obj = Solution()\n",
        "nums = [-2,1,-3,4,-1,2,1,-5,4]\n",
        "result = obj.maxSubArray(nums)\n",
        "print ('Example 1','Input: nums = ',nums, ' Output: ',result)\n",
        "nums = [1] \n",
        "result = obj.maxSubArray(nums)\n",
        "print ('Example 2','Input: nums = ',nums, ' Output: ',result)\n",
        "nums = [5,4,-1,7,8]\n",
        "result = obj.maxSubArray(nums)\n",
        "print ('Example 3','Input: nums = ',nums, ' Output: ',result)\n"
      ],
      "execution_count": null,
      "outputs": [
        {
          "output_type": "stream",
          "name": "stdout",
          "text": [
            "Example 1 Input: nums =  [-2, 1, -3, 4, -1, 2, 1, -5, 4]  Output:  6\n",
            "Example 2 Input: nums =  [1]  Output:  1\n",
            "Example 3 Input: nums =  [5, 4, -1, 7, 8]  Output:  23\n"
          ]
        }
      ]
    },
    {
      "cell_type": "markdown",
      "metadata": {
        "id": "2erc4r-5MZ7W"
      },
      "source": [
        "# **7. Number of Islands***"
      ]
    },
    {
      "cell_type": "markdown",
      "metadata": {
        "id": "o_06xVSdMzM2"
      },
      "source": [
        "Given an `m x n 2D binary grid` `(list of lists)` `grid` which represents a map of `'1'`s (land) and `'0'`s (water), return the number of islands.\n",
        "\n",
        "An island is surrounded by water and is formed by connecting adjacent lands horizontally or vertically. You may assume all four edges of the grid are all surrounded by water.\n",
        "\n",
        "[Origin task on LeetCode](https://leetcode.com/problems/number-of-islands/)"
      ]
    },
    {
      "cell_type": "markdown",
      "metadata": {
        "id": "SuKPbx9PYXRn"
      },
      "source": [
        "**Example 1:**\n",
        "\n",
        "**Input:** "
      ]
    },
    {
      "cell_type": "code",
      "metadata": {
        "id": "p8l1sNiGY24S"
      },
      "source": [
        "grid = [\n",
        "  [\"1\",\"1\",\"1\",\"1\",\"0\"],\n",
        "  [\"1\",\"1\",\"0\",\"1\",\"0\"],\n",
        "  [\"1\",\"1\",\"0\",\"0\",\"0\"],\n",
        "  [\"0\",\"0\",\"0\",\"0\",\"0\"] ]"
      ],
      "execution_count": null,
      "outputs": []
    },
    {
      "cell_type": "markdown",
      "metadata": {
        "id": "8Y5l0RKgZINt"
      },
      "source": [
        "**Output:** 1\n",
        "\n",
        "**Example 2:**"
      ]
    },
    {
      "cell_type": "code",
      "metadata": {
        "id": "2S1K06LrMvjj"
      },
      "source": [
        "grid = [\n",
        "  [\"1\",\"1\",\"0\",\"0\",\"0\"],\n",
        "  [\"1\",\"1\",\"0\",\"0\",\"0\"],\n",
        "  [\"0\",\"0\",\"1\",\"0\",\"0\"],\n",
        "  [\"0\",\"0\",\"0\",\"1\",\"1\"] ]"
      ],
      "execution_count": null,
      "outputs": []
    },
    {
      "cell_type": "markdown",
      "metadata": {
        "id": "X_wmoaEIZMw5"
      },
      "source": [
        "**Output:** 3"
      ]
    },
    {
      "cell_type": "code",
      "metadata": {
        "id": "ypcd3NkhY_Jc",
        "colab": {
          "base_uri": "https://localhost:8080/"
        },
        "outputId": "8ecfeb15-e4a6-48c5-e027-5f07da79f784"
      },
      "source": [
        "class Solution:\n",
        "    def numIslands(self, grid):\n",
        "        \n",
        "        def dfs ( i , j , grid ) :  # обход графа (поиск в глубину)\n",
        "            \n",
        "            rows = len ( grid ) # количество строк грида\n",
        "            cols = len ( grid [ 0 ] ) # количество столбцов гридп \n",
        "            \n",
        "            if i < 0 or j < 0 or i >= rows or j >= cols or grid [ i ] [ j ] == '0' : # проверка на выход за пределы грида и признака воды - выход на море \n",
        "                return\n",
        "            \n",
        "            grid [ i ] [ j ] = '0'\t# присвоение значения воды для избежания повторного учета\n",
        "            dfs ( i + 1 , j , grid ) # переход направо\t\t\n",
        "            dfs ( i - 1 , j , grid ) # переход налево\n",
        "            dfs ( i , j + 1 , grid ) # переход вниз\n",
        "            dfs ( i , j - 1 , grid ) # переход вверх\n",
        "            return\n",
        "        \n",
        "        if not grid : return 0 # проверка на введенный массив - \n",
        "        \n",
        "        count_islands = 0 # начальные условния \n",
        "        rows = len ( grid ) \n",
        "        cols = len ( grid [ 0 ] )\n",
        "       \n",
        "        for i in range ( 0 , rows ) :\t# перемещения позиций\n",
        "            for j in range ( 0 , cols ) :\n",
        "                if grid [ i ] [ j ] == '1' : # признак земли\n",
        "                    dfs ( i , j , grid ) # поиск соседних земель\n",
        "                    count_islands += 1 \n",
        "                \n",
        "        return count_islands\n",
        "\n",
        "obj = Solution()\n",
        "grid = [\n",
        "  [\"1\",\"1\",\"1\",\"1\",\"0\"],\n",
        "  [\"1\",\"1\",\"0\",\"1\",\"0\"],\n",
        "  [\"1\",\"1\",\"0\",\"0\",\"0\"],\n",
        "  [\"0\",\"0\",\"0\",\"0\",\"0\"] ]\n",
        "result = obj.numIslands(grid)\n",
        "print ('Example 1','Input: grid = ',grid, ' Output: ',result)\n",
        "grid = [\n",
        "  [\"1\",\"1\",\"0\",\"0\",\"0\"],\n",
        "  [\"1\",\"1\",\"0\",\"0\",\"0\"],\n",
        "  [\"0\",\"0\",\"1\",\"0\",\"0\"],\n",
        "  [\"0\",\"0\",\"0\",\"1\",\"1\"] ]\n",
        "result = obj.numIslands(grid)\n",
        "print ('Example 2','Input: grid = ',grid, ' Output: ',result)\n",
        "\n"
      ],
      "execution_count": null,
      "outputs": [
        {
          "output_type": "stream",
          "name": "stdout",
          "text": [
            "Example 1 Input: grid =  [['0', '0', '0', '0', '0'], ['0', '0', '0', '0', '0'], ['0', '0', '0', '0', '0'], ['0', '0', '0', '0', '0']]  Output:  1\n",
            "Example 2 Input: grid =  [['0', '0', '0', '0', '0'], ['0', '0', '0', '0', '0'], ['0', '0', '0', '0', '0'], ['0', '0', '0', '0', '0']]  Output:  3\n"
          ]
        }
      ]
    }
  ]
}